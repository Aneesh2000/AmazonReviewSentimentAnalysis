{
  "nbformat": 4,
  "nbformat_minor": 0,
  "metadata": {
    "colab": {
      "name": "Amazon_pro_rev_senti.ipynb",
      "provenance": [],
      "collapsed_sections": [],
      "include_colab_link": true
    },
    "kernelspec": {
      "name": "python3",
      "display_name": "Python 3"
    },
    "language_info": {
      "name": "python"
    }
  },
  "cells": [
    {
      "cell_type": "markdown",
      "metadata": {
        "id": "view-in-github",
        "colab_type": "text"
      },
      "source": [
        "<a href=\"https://colab.research.google.com/github/Aneesh2000/AmazonReviewSentimentAnalysis/blob/main/Amazon_pro_rev_senti.ipynb\" target=\"_parent\"><img src=\"https://colab.research.google.com/assets/colab-badge.svg\" alt=\"Open In Colab\"/></a>"
      ]
    },
    {
      "cell_type": "code",
      "metadata": {
        "id": "o7sjA-Esfhb7"
      },
      "source": [
        "import numpy as np\n",
        "import pandas as pd\n",
        "import seaborn as sns\n",
        "import matplotlib.pyplot as plt\n",
        "import os\n",
        "\n",
        "#NLP Packages\n",
        "import nltk\n",
        "from nltk import word_tokenize\n",
        "from sklearn.feature_extraction.text import CountVectorizer\n",
        "from sklearn.feature_extraction.text import TfidfVectorizer\n",
        "from collections import Counter\n",
        "from wordcloud import WordCloud\n",
        "\n",
        "# PAckages for models\n",
        "from sklearn.model_selection import train_test_split\n",
        "from sklearn.linear_model import LogisticRegression\n",
        "from sklearn.ensemble import RandomForestClassifier\n",
        "from sklearn.metrics import accuracy_score\n",
        "from sklearn.metrics import f1_score\n",
        "\n",
        "# packages for avoiding warning data. \n",
        "from pylab import rcParams\n",
        "import warnings\n",
        "warnings.filterwarnings(\"ignore\")\n",
        "rcParams['figure.figsize'] = 14, 6\n",
        "plt.style.use('ggplot')"
      ],
      "execution_count": null,
      "outputs": []
    },
    {
      "cell_type": "markdown",
      "metadata": {
        "id": "2iYx8AathcWz"
      },
      "source": [
        "**Reading and doing basic data analysis of data**\n"
      ]
    },
    {
      "cell_type": "code",
      "metadata": {
        "colab": {
          "base_uri": "https://localhost:8080/",
          "height": 186
        },
        "id": "0huHeRo2hsu1",
        "outputId": "3d39bd7e-d5ce-4903-d1fc-00700a091ed2"
      },
      "source": [
        "amazon_reviews = pd.read_csv('https://media.githubusercontent.com/media/juliandariomirandacalle/NLP_Notebooks/master/01-Introduction_NLP/Customer_Reviews.csv')\n",
        "amazon_reviews.head(3)"
      ],
      "execution_count": null,
      "outputs": [
        {
          "output_type": "execute_result",
          "data": {
            "text/html": [
              "<div>\n",
              "<style scoped>\n",
              "    .dataframe tbody tr th:only-of-type {\n",
              "        vertical-align: middle;\n",
              "    }\n",
              "\n",
              "    .dataframe tbody tr th {\n",
              "        vertical-align: top;\n",
              "    }\n",
              "\n",
              "    .dataframe thead th {\n",
              "        text-align: right;\n",
              "    }\n",
              "</style>\n",
              "<table border=\"1\" class=\"dataframe\">\n",
              "  <thead>\n",
              "    <tr style=\"text-align: right;\">\n",
              "      <th></th>\n",
              "      <th>ProductId</th>\n",
              "      <th>UserId</th>\n",
              "      <th>ProfileName</th>\n",
              "      <th>HelpfulnessNumerator</th>\n",
              "      <th>HelpfulnessDenominator</th>\n",
              "      <th>Score</th>\n",
              "      <th>Time</th>\n",
              "      <th>Summary</th>\n",
              "      <th>Text</th>\n",
              "    </tr>\n",
              "  </thead>\n",
              "  <tbody>\n",
              "    <tr>\n",
              "      <th>0</th>\n",
              "      <td>B001E4KFG0</td>\n",
              "      <td>A3SGXH7AUHU8GW</td>\n",
              "      <td>delmartian</td>\n",
              "      <td>1</td>\n",
              "      <td>1</td>\n",
              "      <td>5</td>\n",
              "      <td>1303862400</td>\n",
              "      <td>Good Quality Dog Food</td>\n",
              "      <td>I have bought several of the Vitality canned d...</td>\n",
              "    </tr>\n",
              "    <tr>\n",
              "      <th>1</th>\n",
              "      <td>B00813GRG4</td>\n",
              "      <td>A1D87F6ZCVE5NK</td>\n",
              "      <td>dll pa</td>\n",
              "      <td>0</td>\n",
              "      <td>0</td>\n",
              "      <td>1</td>\n",
              "      <td>1346976000</td>\n",
              "      <td>Not as Advertised</td>\n",
              "      <td>Product arrived labeled as Jumbo Salted Peanut...</td>\n",
              "    </tr>\n",
              "    <tr>\n",
              "      <th>2</th>\n",
              "      <td>B000LQOCH0</td>\n",
              "      <td>ABXLMWJIXXAIN</td>\n",
              "      <td>Natalia Corres \"Natalia Corres\"</td>\n",
              "      <td>1</td>\n",
              "      <td>1</td>\n",
              "      <td>4</td>\n",
              "      <td>1219017600</td>\n",
              "      <td>\"Delight\" says it all</td>\n",
              "      <td>This is a confection that has been around a fe...</td>\n",
              "    </tr>\n",
              "  </tbody>\n",
              "</table>\n",
              "</div>"
            ],
            "text/plain": [
              "    ProductId  ...                                               Text\n",
              "0  B001E4KFG0  ...  I have bought several of the Vitality canned d...\n",
              "1  B00813GRG4  ...  Product arrived labeled as Jumbo Salted Peanut...\n",
              "2  B000LQOCH0  ...  This is a confection that has been around a fe...\n",
              "\n",
              "[3 rows x 9 columns]"
            ]
          },
          "metadata": {
            "tags": []
          },
          "execution_count": 4
        }
      ]
    },
    {
      "cell_type": "code",
      "metadata": {
        "colab": {
          "base_uri": "https://localhost:8080/"
        },
        "id": "92CXnF9ohxV7",
        "outputId": "23965814-9ab0-4654-8276-ab1021f364b1"
      },
      "source": [
        "amazon_reviews.shape"
      ],
      "execution_count": null,
      "outputs": [
        {
          "output_type": "execute_result",
          "data": {
            "text/plain": [
              "(10000, 9)"
            ]
          },
          "metadata": {
            "tags": []
          },
          "execution_count": 4
        }
      ]
    },
    {
      "cell_type": "markdown",
      "metadata": {
        "id": "ejYgK_4iiBqo"
      },
      "source": [
        "**Looking for number of words per** **review**"
      ]
    },
    {
      "cell_type": "code",
      "metadata": {
        "colab": {
          "base_uri": "https://localhost:8080/",
          "height": 501
        },
        "id": "eJFmugu7iI2M",
        "outputId": "fa4df7b6-b089-4cc5-ceee-f629cee44416"
      },
      "source": [
        "words_per_review = amazon_reviews.Text.apply(lambda x:len(x.split()))\n",
        "words_per_review.hist(bins = 100)\n",
        "plt.xlabel(\"len of Review\")\n",
        "plt.ylabel(\"Freq\")\n",
        "plt.show()\n",
        "print(\"data in words_per_review\")\n",
        "words_per_review"
      ],
      "execution_count": null,
      "outputs": [
        {
          "output_type": "display_data",
          "data": {
            "image/png": "[encoded data removed]",
            "text/plain": [
              "<Figure size 432x288 with 1 Axes>"
            ]
          },
          "metadata": {
            "tags": [],
            "needs_background": "light"
          }
        },
        {
          "output_type": "stream",
          "text": [
            "data in words_per_review\n"
          ],
          "name": "stdout"
        },
        {
          "output_type": "execute_result",
          "data": {
            "text/plain": [
              "0        48\n",
              "1        31\n",
              "2        94\n",
              "3        41\n",
              "4        27\n",
              "       ... \n",
              "9995     74\n",
              "9996     80\n",
              "9997    174\n",
              "9998     24\n",
              "9999    198\n",
              "Name: Text, Length: 10000, dtype: int64"
            ]
          },
          "metadata": {
            "tags": []
          },
          "execution_count": 5
        }
      ]
    },
    {
      "cell_type": "code",
      "metadata": {
        "colab": {
          "base_uri": "https://localhost:8080/"
        },
        "id": "-ujNPWGjis3B",
        "outputId": "464020e9-fd77-46aa-fc7f-bb01793ca941"
      },
      "source": [
        "print(\"Average_words_per_review: \",words_per_review.mean())"
      ],
      "execution_count": null,
      "outputs": [
        {
          "output_type": "stream",
          "text": [
            "Average_words_per_review:  76.2309\n"
          ],
          "name": "stdout"
        }
      ]
    },
    {
      "cell_type": "markdown",
      "metadata": {
        "id": "fd8c-df5mJt-"
      },
      "source": [
        "**Distribution of the ratings-column.**"
      ]
    },
    {
      "cell_type": "code",
      "metadata": {
        "colab": {
          "base_uri": "https://localhost:8080/"
        },
        "id": "d9_UTIycjosz",
        "outputId": "6ed7b2d1-c564-4c61-b571-d06fe1262787"
      },
      "source": [
        "percent_val = 100*amazon_reviews['Score'].value_counts()/len(amazon_reviews)\n",
        "percent_val"
      ],
      "execution_count": null,
      "outputs": [
        {
          "output_type": "execute_result",
          "data": {
            "text/plain": [
              "5    61.83\n",
              "4    14.33\n",
              "1     9.32\n",
              "3     8.62\n",
              "2     5.90\n",
              "Name: Score, dtype: float64"
            ]
          },
          "metadata": {
            "tags": []
          },
          "execution_count": 6
        }
      ]
    },
    {
      "cell_type": "code",
      "metadata": {
        "colab": {
          "base_uri": "https://localhost:8080/",
          "height": 262
        },
        "id": "XMpYSCaMmj8X",
        "outputId": "14469e81-855f-41bb-d59f-46341bd12788"
      },
      "source": [
        "percent_val.plot.bar()\n",
        "plt.show()"
      ],
      "execution_count": null,
      "outputs": [
        {
          "output_type": "display_data",
          "data": {
            "image/png": "[encoded data removed]",
            "text/plain": [
              "<Figure size 432x288 with 1 Axes>"
            ]
          },
          "metadata": {
            "tags": [],
            "needs_background": "light"
          }
        }
      ]
    },
    {
      "cell_type": "code",
      "metadata": {
        "colab": {
          "base_uri": "https://localhost:8080/",
          "height": 198
        },
        "id": "N6VegCIymr8A",
        "outputId": "0446c035-349a-4466-d797-95ede8c6d22c"
      },
      "source": [
        "word_cloud_text = ''.join(amazon_reviews['Text'])\n",
        "wordcloud = WordCloud(max_font_size=100,max_words=100,background_color=\"white\",\n",
        "                      scale = 10, width=800,height=400).generate(word_cloud_text)\n",
        "plt.figure()\n",
        "plt.imshow(wordcloud,interpolation=\"bilinear\")\n",
        "plt.axis(\"off\")\n",
        "plt.show()"
      ],
      "execution_count": null,
      "outputs": [
        {
          "output_type": "display_data",
          "data": {
            "image/png": "[encoded data removed]",
            "text/plain": [
              "<Figure size 432x288 with 1 Axes>"
            ]
          },
          "metadata": {
            "tags": [],
            "needs_background": "light"
          }
        }
      ]
    },
    {
      "cell_type": "markdown",
      "metadata": {
        "id": "09jTH4RZgCLj"
      },
      "source": [
        "Standardizing the ratings for sentiment analysis (5 mts)"
      ]
    },
    {
      "cell_type": "code",
      "metadata": {
        "id": "XkkPJzvboB9Y",
        "colab": {
          "base_uri": "https://localhost:8080/"
        },
        "outputId": "d24c1a23-9036-4a7e-da6f-2d12048b86fa"
      },
      "source": [
        "# Mapping the ratings\n",
        "amazon_reviews['Sentiment_rating'] = np.where(amazon_reviews.Score > 3,1,0)\n",
        "\n",
        "## Removing neutral reviews \n",
        "amazon_reviews = amazon_reviews[amazon_reviews.Score != 3]\n",
        "\n",
        "# Printing the counts of each class\n",
        "amazon_reviews['Sentiment_rating'].value_counts()"
      ],
      "execution_count": null,
      "outputs": [
        {
          "output_type": "execute_result",
          "data": {
            "text/plain": [
              "1    7616\n",
              "0    1522\n",
              "Name: Sentiment_rating, dtype: int64"
            ]
          },
          "metadata": {
            "tags": []
          },
          "execution_count": 9
        }
      ]
    },
    {
      "cell_type": "code",
      "metadata": {
        "colab": {
          "base_uri": "https://localhost:8080/",
          "height": 262
        },
        "id": "sNbZaMtRgMxL",
        "outputId": "945a3e6e-cc21-4f4f-c35e-1ee38103c487"
      },
      "source": [
        "amazon_reviews.Sentiment_rating.value_counts().plot.bar()\n",
        "plt.show()"
      ],
      "execution_count": null,
      "outputs": [
        {
          "output_type": "display_data",
          "data": {
            "image/png": "[encoded data removed]",
            "text/plain": [
              "<Figure size 432x288 with 1 Axes>"
            ]
          },
          "metadata": {
            "tags": [],
            "needs_background": "light"
          }
        }
      ]
    },
    {
      "cell_type": "markdown",
      "metadata": {
        "id": "2T9WkRRCgh0w"
      },
      "source": [
        "Pre-processing\n",
        "1. Converting words to lower/upper case"
      ]
    },
    {
      "cell_type": "code",
      "metadata": {
        "id": "QxDres50gmcC"
      },
      "source": [
        "amazon_reviews['reviews_text_new'] = amazon_reviews['Text'].str.lower()\n"
      ],
      "execution_count": null,
      "outputs": []
    },
    {
      "cell_type": "code",
      "metadata": {
        "colab": {
          "base_uri": "https://localhost:8080/"
        },
        "id": "oTz4wO3yhPG1",
        "outputId": "dcf9228a-92c0-4b8d-dbca-34d3beb4eb26"
      },
      "source": [
        "from nltk import word_tokenize\n",
        "import nltk\n",
        "nltk.download('punkt')\n",
        "# Word tokenization example:\n",
        "word_tokenize(\"DPhi Bootcamp rules. It is awesome :D\")"
      ],
      "execution_count": null,
      "outputs": [
        {
          "output_type": "stream",
          "text": [
            "[nltk_data] Downloading package punkt to /root/nltk_data...\n",
            "[nltk_data]   Unzipping tokenizers/punkt.zip.\n"
          ],
          "name": "stdout"
        },
        {
          "output_type": "execute_result",
          "data": {
            "text/plain": [
              "['DPhi', 'Bootcamp', 'rules', '.', 'It', 'is', 'awesome', ':', 'D']"
            ]
          },
          "metadata": {
            "tags": []
          },
          "execution_count": 12
        }
      ]
    },
    {
      "cell_type": "code",
      "metadata": {
        "colab": {
          "base_uri": "https://localhost:8080/"
        },
        "id": "8EDzoY1ShsgG",
        "outputId": "75e70a54-b4b3-40eb-80cc-a08ea2f32a0d"
      },
      "source": [
        "# For reviews not converted to lowe case\n",
        "token_lists = [word_tokenize(each) for each in amazon_reviews['Text']]\n",
        "tokens = [item for sublist in token_lists for item in sublist]\n",
        "print(\"Number of unique tokens then: \",len(set(tokens)))\n",
        "\n",
        "# For reviews converted to lowe case\n",
        "token_lists_lower = [word_tokenize(each) for each in amazon_reviews['reviews_text_new']]\n",
        "tokens_lower = [item for sublist in token_lists_lower for item in sublist]\n",
        "print(\"Number of unique tokens now: \",len(set(tokens_lower)))"
      ],
      "execution_count": null,
      "outputs": [
        {
          "output_type": "stream",
          "text": [
            "Number of unique tokens then:  27899\n",
            "Number of unique tokens now:  22865\n"
          ],
          "name": "stdout"
        }
      ]
    },
    {
      "cell_type": "markdown",
      "metadata": {
        "id": "3Oe-EyzAh_lh"
      },
      "source": [
        "2. Removing special characters"
      ]
    },
    {
      "cell_type": "code",
      "metadata": {
        "colab": {
          "base_uri": "https://localhost:8080/"
        },
        "id": "8X2XSEW0iAh1",
        "outputId": "4591fd15-de3b-4f9e-fdee-e7bd6cb5af9f"
      },
      "source": [
        "### Selecting non alpha numeric charactes that are not spaces\n",
        "spl_chars = amazon_reviews['reviews_text_new'].apply(lambda review: \n",
        "                                                     [char for char in list(review) if not char.isalnum() and char != ' '])\n",
        "\n",
        "## Getting list of list into a single list\n",
        "flat_list = [item for sublist in spl_chars for item in sublist]\n",
        "\n",
        "## Unique special characters\n",
        "set(flat_list)"
      ],
      "execution_count": null,
      "outputs": [
        {
          "output_type": "execute_result",
          "data": {
            "text/plain": [
              "{'!',\n",
              " '\"',\n",
              " '#',\n",
              " '$',\n",
              " '%',\n",
              " '&',\n",
              " \"'\",\n",
              " '(',\n",
              " ')',\n",
              " '*',\n",
              " '+',\n",
              " ',',\n",
              " '-',\n",
              " '.',\n",
              " '/',\n",
              " ':',\n",
              " ';',\n",
              " '<',\n",
              " '=',\n",
              " '>',\n",
              " '?',\n",
              " '@',\n",
              " '[',\n",
              " ']',\n",
              " '^',\n",
              " '_',\n",
              " '`',\n",
              " '{',\n",
              " '}',\n",
              " '~',\n",
              " '§',\n",
              " '®'}"
            ]
          },
          "metadata": {
            "tags": []
          },
          "execution_count": 14
        }
      ]
    },
    {
      "cell_type": "code",
      "metadata": {
        "id": "GrgAecfIidfD"
      },
      "source": [
        "review_backup = amazon_reviews['reviews_text_new'].copy()\n",
        "amazon_reviews['reviews_text_new'] = amazon_reviews['reviews_text_new'].str.replace(r'[^A-Za-z0-9 ]+', ' ')"
      ],
      "execution_count": null,
      "outputs": []
    },
    {
      "cell_type": "code",
      "metadata": {
        "colab": {
          "base_uri": "https://localhost:8080/"
        },
        "id": "QygSFBKAilZt",
        "outputId": "6adf7a74-767f-4297-e195-c00d4ef5b959"
      },
      "source": [
        "print(\"- Old Review -\")\n",
        "print(review_backup.values[5])\n",
        "print(\"\\n- New Review -\")\n",
        "print(amazon_reviews['reviews_text_new'][5])"
      ],
      "execution_count": null,
      "outputs": [
        {
          "output_type": "stream",
          "text": [
            "- Old Review -\n",
            "i got a wild hair for taffy and ordered this five pound bag. the taffy was all very enjoyable with many flavors: watermelon, root beer, melon, peppermint, grape, etc. my only complaint is there was a bit too much red/black licorice-flavored pieces (just not my particular favorites). between me, my kids, and my husband, this lasted only two weeks! i would recommend this brand of taffy -- it was a delightful treat.\n",
            "\n",
            "- New Review -\n",
            "i got a wild hair for taffy and ordered this five pound bag  the taffy was all very enjoyable with many flavors  watermelon  root beer  melon  peppermint  grape  etc  my only complaint is there was a bit too much red black licorice flavored pieces  just not my particular favorites  between me  my kids  and my husband  this lasted only two weeks  i would recommend this brand of taffy   it was a delightful treat \n"
          ],
          "name": "stdout"
        }
      ]
    },
    {
      "cell_type": "code",
      "metadata": {
        "colab": {
          "base_uri": "https://localhost:8080/"
        },
        "id": "7Cv5e2Vii1Mg",
        "outputId": "3fa70a25-1923-4c06-9abe-836fa5c0af5a"
      },
      "source": [
        "token_lists = [word_tokenize(each) for each in amazon_reviews['Text']]\n",
        "tokens = [item for sublist in token_lists for item in sublist]\n",
        "print(\"Number of unique tokens then: \",len(set(tokens)))\n",
        "\n",
        "token_lists = [word_tokenize(each) for each in amazon_reviews['reviews_text_new']]\n",
        "tokens = [item for sublist in token_lists for item in sublist]\n",
        "print(\"Number of unique tokens now: \",len(set(tokens)))"
      ],
      "execution_count": null,
      "outputs": [
        {
          "output_type": "stream",
          "text": [
            "Number of unique tokens then:  27899\n",
            "Number of unique tokens now:  18039\n"
          ],
          "name": "stdout"
        }
      ]
    },
    {
      "cell_type": "markdown",
      "metadata": {
        "id": "d9JBkyaYi5bN"
      },
      "source": [
        "3. Stopwords and high/low frequency words"
      ]
    },
    {
      "cell_type": "code",
      "metadata": {
        "colab": {
          "base_uri": "https://localhost:8080/"
        },
        "id": "DeIlOdHai7ce",
        "outputId": "b36efc3b-ba93-40da-d520-27910e55485d"
      },
      "source": [
        "from nltk.corpus import stopwords\n",
        "nltk.download('stopwords')\n",
        "\n",
        "print('Available languages for NLTK v.3.4.5: ')\n",
        "print(stopwords.fileids())"
      ],
      "execution_count": null,
      "outputs": [
        {
          "output_type": "stream",
          "text": [
            "[nltk_data] Downloading package stopwords to /root/nltk_data...\n",
            "[nltk_data]   Unzipping corpora/stopwords.zip.\n",
            "Available languages for NLTK v.3.4.5: \n",
            "['arabic', 'azerbaijani', 'danish', 'dutch', 'english', 'finnish', 'french', 'german', 'greek', 'hungarian', 'indonesian', 'italian', 'kazakh', 'nepali', 'norwegian', 'portuguese', 'romanian', 'russian', 'slovene', 'spanish', 'swedish', 'tajik', 'turkish']\n"
          ],
          "name": "stdout"
        }
      ]
    },
    {
      "cell_type": "code",
      "metadata": {
        "colab": {
          "base_uri": "https://localhost:8080/"
        },
        "id": "gxEwDGrFjcjJ",
        "outputId": "13e04180-bc58-4da7-cf54-e16a97a21dcd"
      },
      "source": [
        "noise_words = []\n",
        "eng_stop_words = stopwords.words('english')\n",
        "eng_stop_words"
      ],
      "execution_count": null,
      "outputs": [
        {
          "output_type": "execute_result",
          "data": {
            "text/plain": [
              "['i',\n",
              " 'me',\n",
              " 'my',\n",
              " 'myself',\n",
              " 'we',\n",
              " 'our',\n",
              " 'ours',\n",
              " 'ourselves',\n",
              " 'you',\n",
              " \"you're\",\n",
              " \"you've\",\n",
              " \"you'll\",\n",
              " \"you'd\",\n",
              " 'your',\n",
              " 'yours',\n",
              " 'yourself',\n",
              " 'yourselves',\n",
              " 'he',\n",
              " 'him',\n",
              " 'his',\n",
              " 'himself',\n",
              " 'she',\n",
              " \"she's\",\n",
              " 'her',\n",
              " 'hers',\n",
              " 'herself',\n",
              " 'it',\n",
              " \"it's\",\n",
              " 'its',\n",
              " 'itself',\n",
              " 'they',\n",
              " 'them',\n",
              " 'their',\n",
              " 'theirs',\n",
              " 'themselves',\n",
              " 'what',\n",
              " 'which',\n",
              " 'who',\n",
              " 'whom',\n",
              " 'this',\n",
              " 'that',\n",
              " \"that'll\",\n",
              " 'these',\n",
              " 'those',\n",
              " 'am',\n",
              " 'is',\n",
              " 'are',\n",
              " 'was',\n",
              " 'were',\n",
              " 'be',\n",
              " 'been',\n",
              " 'being',\n",
              " 'have',\n",
              " 'has',\n",
              " 'had',\n",
              " 'having',\n",
              " 'do',\n",
              " 'does',\n",
              " 'did',\n",
              " 'doing',\n",
              " 'a',\n",
              " 'an',\n",
              " 'the',\n",
              " 'and',\n",
              " 'but',\n",
              " 'if',\n",
              " 'or',\n",
              " 'because',\n",
              " 'as',\n",
              " 'until',\n",
              " 'while',\n",
              " 'of',\n",
              " 'at',\n",
              " 'by',\n",
              " 'for',\n",
              " 'with',\n",
              " 'about',\n",
              " 'against',\n",
              " 'between',\n",
              " 'into',\n",
              " 'through',\n",
              " 'during',\n",
              " 'before',\n",
              " 'after',\n",
              " 'above',\n",
              " 'below',\n",
              " 'to',\n",
              " 'from',\n",
              " 'up',\n",
              " 'down',\n",
              " 'in',\n",
              " 'out',\n",
              " 'on',\n",
              " 'off',\n",
              " 'over',\n",
              " 'under',\n",
              " 'again',\n",
              " 'further',\n",
              " 'then',\n",
              " 'once',\n",
              " 'here',\n",
              " 'there',\n",
              " 'when',\n",
              " 'where',\n",
              " 'why',\n",
              " 'how',\n",
              " 'all',\n",
              " 'any',\n",
              " 'both',\n",
              " 'each',\n",
              " 'few',\n",
              " 'more',\n",
              " 'most',\n",
              " 'other',\n",
              " 'some',\n",
              " 'such',\n",
              " 'no',\n",
              " 'nor',\n",
              " 'not',\n",
              " 'only',\n",
              " 'own',\n",
              " 'same',\n",
              " 'so',\n",
              " 'than',\n",
              " 'too',\n",
              " 'very',\n",
              " 's',\n",
              " 't',\n",
              " 'can',\n",
              " 'will',\n",
              " 'just',\n",
              " 'don',\n",
              " \"don't\",\n",
              " 'should',\n",
              " \"should've\",\n",
              " 'now',\n",
              " 'd',\n",
              " 'll',\n",
              " 'm',\n",
              " 'o',\n",
              " 're',\n",
              " 've',\n",
              " 'y',\n",
              " 'ain',\n",
              " 'aren',\n",
              " \"aren't\",\n",
              " 'couldn',\n",
              " \"couldn't\",\n",
              " 'didn',\n",
              " \"didn't\",\n",
              " 'doesn',\n",
              " \"doesn't\",\n",
              " 'hadn',\n",
              " \"hadn't\",\n",
              " 'hasn',\n",
              " \"hasn't\",\n",
              " 'haven',\n",
              " \"haven't\",\n",
              " 'isn',\n",
              " \"isn't\",\n",
              " 'ma',\n",
              " 'mightn',\n",
              " \"mightn't\",\n",
              " 'mustn',\n",
              " \"mustn't\",\n",
              " 'needn',\n",
              " \"needn't\",\n",
              " 'shan',\n",
              " \"shan't\",\n",
              " 'shouldn',\n",
              " \"shouldn't\",\n",
              " 'wasn',\n",
              " \"wasn't\",\n",
              " 'weren',\n",
              " \"weren't\",\n",
              " 'won',\n",
              " \"won't\",\n",
              " 'wouldn',\n",
              " \"wouldn't\"]"
            ]
          },
          "metadata": {
            "tags": []
          },
          "execution_count": 19
        }
      ]
    },
    {
      "cell_type": "markdown",
      "metadata": {
        "id": "r7PBPYDWkId-"
      },
      "source": [
        "example of removing stopwords:"
      ]
    },
    {
      "cell_type": "code",
      "metadata": {
        "colab": {
          "base_uri": "https://localhost:8080/"
        },
        "id": "cfWOMi8pjnFX",
        "outputId": "4fc1954c-937d-4e38-cdfb-74918f932f91"
      },
      "source": [
        "stop_words = set(eng_stop_words)\n",
        "without_stop_words = []\n",
        "stopword = []\n",
        "sentence = amazon_reviews['reviews_text_new'][0]\n",
        "words = nltk.word_tokenize(sentence)\n",
        "\n",
        "for word in words:\n",
        "    if word in stop_words:\n",
        "        stopword.append(word)\n",
        "    else:\n",
        "        without_stop_words.append(word)\n",
        "\n",
        "print('-- Original Sentence --\\n', sentence)\n",
        "print('\\n-- Stopwords in the sentence --\\n', stopword)\n",
        "print('\\n-- Non-stopwords in the sentence --\\n', without_stop_words)"
      ],
      "execution_count": null,
      "outputs": [
        {
          "output_type": "stream",
          "text": [
            "-- Original Sentence --\n",
            " i have bought several of the vitality canned dog food products and have found them all to be of good quality  the product looks more like a stew than a processed meat and it smells better  my labrador is finicky and she appreciates this product better than  most \n",
            "\n",
            "-- Stopwords in the sentence --\n",
            " ['i', 'have', 'of', 'the', 'and', 'have', 'them', 'all', 'to', 'be', 'of', 'the', 'more', 'a', 'than', 'a', 'and', 'it', 'my', 'is', 'and', 'she', 'this', 'than', 'most']\n",
            "\n",
            "-- Non-stopwords in the sentence --\n",
            " ['bought', 'several', 'vitality', 'canned', 'dog', 'food', 'products', 'found', 'good', 'quality', 'product', 'looks', 'like', 'stew', 'processed', 'meat', 'smells', 'better', 'labrador', 'finicky', 'appreciates', 'product', 'better']\n"
          ],
          "name": "stdout"
        }
      ]
    },
    {
      "cell_type": "code",
      "metadata": {
        "colab": {
          "base_uri": "https://localhost:8080/",
          "height": 402
        },
        "id": "swqeRywNkQb3",
        "outputId": "d4e1c516-e5b7-45c4-9ad8-d1261cc696da"
      },
      "source": [
        "def stopwords_removal(stop_words, sentence):\n",
        "    return [word for word in nltk.word_tokenize(sentence) if word not in stop_words]\n",
        "\n",
        "amazon_reviews['reviews_text_nonstop'] = amazon_reviews['reviews_text_new'].apply(lambda row: stopwords_removal(stop_words, row))\n",
        "amazon_reviews[['reviews_text_new','reviews_text_nonstop']]"
      ],
      "execution_count": null,
      "outputs": [
        {
          "output_type": "execute_result",
          "data": {
            "text/html": [
              "<div>\n",
              "<style scoped>\n",
              "    .dataframe tbody tr th:only-of-type {\n",
              "        vertical-align: middle;\n",
              "    }\n",
              "\n",
              "    .dataframe tbody tr th {\n",
              "        vertical-align: top;\n",
              "    }\n",
              "\n",
              "    .dataframe thead th {\n",
              "        text-align: right;\n",
              "    }\n",
              "</style>\n",
              "<table border=\"1\" class=\"dataframe\">\n",
              "  <thead>\n",
              "    <tr style=\"text-align: right;\">\n",
              "      <th></th>\n",
              "      <th>reviews_text_new</th>\n",
              "      <th>reviews_text_nonstop</th>\n",
              "    </tr>\n",
              "  </thead>\n",
              "  <tbody>\n",
              "    <tr>\n",
              "      <th>0</th>\n",
              "      <td>i have bought several of the vitality canned d...</td>\n",
              "      <td>[bought, several, vitality, canned, dog, food,...</td>\n",
              "    </tr>\n",
              "    <tr>\n",
              "      <th>1</th>\n",
              "      <td>product arrived labeled as jumbo salted peanut...</td>\n",
              "      <td>[product, arrived, labeled, jumbo, salted, pea...</td>\n",
              "    </tr>\n",
              "    <tr>\n",
              "      <th>2</th>\n",
              "      <td>this is a confection that has been around a fe...</td>\n",
              "      <td>[confection, around, centuries, light, pillowy...</td>\n",
              "    </tr>\n",
              "    <tr>\n",
              "      <th>3</th>\n",
              "      <td>if you are looking for the secret ingredient i...</td>\n",
              "      <td>[looking, secret, ingredient, robitussin, beli...</td>\n",
              "    </tr>\n",
              "    <tr>\n",
              "      <th>4</th>\n",
              "      <td>great taffy at a great price   there was a wid...</td>\n",
              "      <td>[great, taffy, great, price, wide, assortment,...</td>\n",
              "    </tr>\n",
              "    <tr>\n",
              "      <th>...</th>\n",
              "      <td>...</td>\n",
              "      <td>...</td>\n",
              "    </tr>\n",
              "    <tr>\n",
              "      <th>9995</th>\n",
              "      <td>we switched from the advance similac to the or...</td>\n",
              "      <td>[switched, advance, similac, organic, product,...</td>\n",
              "    </tr>\n",
              "    <tr>\n",
              "      <th>9996</th>\n",
              "      <td>like the bad reviews say  the organic formula ...</td>\n",
              "      <td>[like, bad, reviews, say, organic, formula, co...</td>\n",
              "    </tr>\n",
              "    <tr>\n",
              "      <th>9997</th>\n",
              "      <td>i wanted to solely breastfeed but was unable t...</td>\n",
              "      <td>[wanted, solely, breastfeed, unable, keep, sup...</td>\n",
              "    </tr>\n",
              "    <tr>\n",
              "      <th>9998</th>\n",
              "      <td>i love the fact that i can get this delieved t...</td>\n",
              "      <td>[love, fact, get, delieved, house, delievy, ch...</td>\n",
              "    </tr>\n",
              "    <tr>\n",
              "      <th>9999</th>\n",
              "      <td>we have a 7 week old  he had gas and constipat...</td>\n",
              "      <td>[7, week, old, gas, constipation, problems, fi...</td>\n",
              "    </tr>\n",
              "  </tbody>\n",
              "</table>\n",
              "<p>9138 rows × 2 columns</p>\n",
              "</div>"
            ],
            "text/plain": [
              "                                       reviews_text_new                               reviews_text_nonstop\n",
              "0     i have bought several of the vitality canned d...  [bought, several, vitality, canned, dog, food,...\n",
              "1     product arrived labeled as jumbo salted peanut...  [product, arrived, labeled, jumbo, salted, pea...\n",
              "2     this is a confection that has been around a fe...  [confection, around, centuries, light, pillowy...\n",
              "3     if you are looking for the secret ingredient i...  [looking, secret, ingredient, robitussin, beli...\n",
              "4     great taffy at a great price   there was a wid...  [great, taffy, great, price, wide, assortment,...\n",
              "...                                                 ...                                                ...\n",
              "9995  we switched from the advance similac to the or...  [switched, advance, similac, organic, product,...\n",
              "9996  like the bad reviews say  the organic formula ...  [like, bad, reviews, say, organic, formula, co...\n",
              "9997  i wanted to solely breastfeed but was unable t...  [wanted, solely, breastfeed, unable, keep, sup...\n",
              "9998  i love the fact that i can get this delieved t...  [love, fact, get, delieved, house, delievy, ch...\n",
              "9999  we have a 7 week old  he had gas and constipat...  [7, week, old, gas, constipation, problems, fi...\n",
              "\n",
              "[9138 rows x 2 columns]"
            ]
          },
          "metadata": {
            "tags": []
          },
          "execution_count": 21
        }
      ]
    },
    {
      "cell_type": "markdown",
      "metadata": {
        "id": "MdV6wW2EkY97"
      },
      "source": [
        "4. Stemming & lemmatization"
      ]
    },
    {
      "cell_type": "code",
      "metadata": {
        "colab": {
          "base_uri": "https://localhost:8080/"
        },
        "id": "aeef2z1bkaOe",
        "outputId": "7474ea95-4baa-40d4-bb04-1fc9b0286fb1"
      },
      "source": [
        "from nltk.stem import PorterStemmer, LancasterStemmer # Common stemmers\n",
        "from nltk.stem import WordNetLemmatizer # Common Lematizer\n",
        "nltk.download('wordnet')\n",
        "from nltk.corpus import wordnet\n",
        "\n",
        "porter = PorterStemmer()\n",
        "lancaster = LancasterStemmer()\n",
        "lemmatizer = WordNetLemmatizer()"
      ],
      "execution_count": null,
      "outputs": [
        {
          "output_type": "stream",
          "text": [
            "[nltk_data] Downloading package wordnet to /root/nltk_data...\n",
            "[nltk_data]   Unzipping corpora/wordnet.zip.\n"
          ],
          "name": "stdout"
        }
      ]
    },
    {
      "cell_type": "code",
      "metadata": {
        "colab": {
          "base_uri": "https://localhost:8080/"
        },
        "id": "Bgmwqc3Mktz2",
        "outputId": "0be5d15c-7a39-42b5-cd57-b70625c2f40c"
      },
      "source": [
        "print(\"Lancaster Stemmer\")\n",
        "print(lancaster.stem(\"trouble\"))\n",
        "print(lancaster.stem(\"troubling\"))\n",
        "print(lancaster.stem(\"troubled\"))\n",
        "\n",
        "# Provide a word to be lemmatized\n",
        "print(\"WordNet Lemmatizer\")\n",
        "print(lemmatizer.lemmatize(\"trouble\", wordnet.NOUN))\n",
        "print(lemmatizer.lemmatize(\"troubling\", wordnet.VERB))\n",
        "print(lemmatizer.lemmatize(\"troubled\", wordnet.VERB))"
      ],
      "execution_count": null,
      "outputs": [
        {
          "output_type": "stream",
          "text": [
            "Lancaster Stemmer\n",
            "troubl\n",
            "troubl\n",
            "troubl\n",
            "WordNet Lemmatizer\n",
            "trouble\n",
            "trouble\n",
            "trouble\n"
          ],
          "name": "stdout"
        }
      ]
    },
    {
      "cell_type": "markdown",
      "metadata": {
        "id": "6XIhw6eBk5iO"
      },
      "source": [
        "Bag-of-words"
      ]
    },
    {
      "cell_type": "code",
      "metadata": {
        "colab": {
          "base_uri": "https://localhost:8080/",
          "height": 244
        },
        "id": "adVfT5EJk7O6",
        "outputId": "7b6d96da-4a1a-46ef-dc90-b7c6ca790af1"
      },
      "source": [
        "# The following code creates a word-document matrix.\n",
        "from sklearn.feature_extraction.text import CountVectorizer\n",
        "\n",
        "vec = CountVectorizer()\n",
        "X = vec.fit_transform(amazon_reviews['reviews_text_new'])\n",
        "df = pd.DataFrame(X.toarray(), columns = vec.get_feature_names())\n",
        "df.head()"
      ],
      "execution_count": null,
      "outputs": [
        {
          "output_type": "execute_result",
          "data": {
            "text/html": [
              "<div>\n",
              "<style scoped>\n",
              "    .dataframe tbody tr th:only-of-type {\n",
              "        vertical-align: middle;\n",
              "    }\n",
              "\n",
              "    .dataframe tbody tr th {\n",
              "        vertical-align: top;\n",
              "    }\n",
              "\n",
              "    .dataframe thead th {\n",
              "        text-align: right;\n",
              "    }\n",
              "</style>\n",
              "<table border=\"1\" class=\"dataframe\">\n",
              "  <thead>\n",
              "    <tr style=\"text-align: right;\">\n",
              "      <th></th>\n",
              "      <th>00</th>\n",
              "      <th>000</th>\n",
              "      <th>0003</th>\n",
              "      <th>000kwh</th>\n",
              "      <th>002</th>\n",
              "      <th>008</th>\n",
              "      <th>0100</th>\n",
              "      <th>0174</th>\n",
              "      <th>02</th>\n",
              "      <th>03</th>\n",
              "      <th>0303</th>\n",
              "      <th>032</th>\n",
              "      <th>03510</th>\n",
              "      <th>04</th>\n",
              "      <th>042608460503</th>\n",
              "      <th>0472066978</th>\n",
              "      <th>04830</th>\n",
              "      <th>05</th>\n",
              "      <th>06</th>\n",
              "      <th>062</th>\n",
              "      <th>07</th>\n",
              "      <th>0738551856</th>\n",
              "      <th>09</th>\n",
              "      <th>090</th>\n",
              "      <th>0g</th>\n",
              "      <th>0mg</th>\n",
              "      <th>0xk6hzpjrkaed855hewp</th>\n",
              "      <th>0z</th>\n",
              "      <th>10</th>\n",
              "      <th>100</th>\n",
              "      <th>1000</th>\n",
              "      <th>100ml</th>\n",
              "      <th>100s</th>\n",
              "      <th>100x</th>\n",
              "      <th>101</th>\n",
              "      <th>103</th>\n",
              "      <th>105</th>\n",
              "      <th>108</th>\n",
              "      <th>10g</th>\n",
              "      <th>10lb</th>\n",
              "      <th>...</th>\n",
              "      <th>zany</th>\n",
              "      <th>zap</th>\n",
              "      <th>zapp</th>\n",
              "      <th>zareba</th>\n",
              "      <th>zeal</th>\n",
              "      <th>zealand</th>\n",
              "      <th>zen</th>\n",
              "      <th>zero</th>\n",
              "      <th>zest</th>\n",
              "      <th>zesty</th>\n",
              "      <th>zevia</th>\n",
              "      <th>zhena</th>\n",
              "      <th>zico</th>\n",
              "      <th>ziggies</th>\n",
              "      <th>zilch</th>\n",
              "      <th>zin</th>\n",
              "      <th>zinc</th>\n",
              "      <th>zinfandels</th>\n",
              "      <th>zing</th>\n",
              "      <th>zinging</th>\n",
              "      <th>zip</th>\n",
              "      <th>ziploc</th>\n",
              "      <th>ziplock</th>\n",
              "      <th>zipper</th>\n",
              "      <th>zippy</th>\n",
              "      <th>zito</th>\n",
              "      <th>ziwipeak</th>\n",
              "      <th>zn</th>\n",
              "      <th>zojirushi</th>\n",
              "      <th>zola</th>\n",
              "      <th>zomg</th>\n",
              "      <th>zon</th>\n",
              "      <th>zoo</th>\n",
              "      <th>zoom</th>\n",
              "      <th>zotz</th>\n",
              "      <th>zucchini</th>\n",
              "      <th>zuke</th>\n",
              "      <th>zukes</th>\n",
              "      <th>zupas</th>\n",
              "      <th>zuppa</th>\n",
              "    </tr>\n",
              "  </thead>\n",
              "  <tbody>\n",
              "    <tr>\n",
              "      <th>0</th>\n",
              "      <td>0</td>\n",
              "      <td>0</td>\n",
              "      <td>0</td>\n",
              "      <td>0</td>\n",
              "      <td>0</td>\n",
              "      <td>0</td>\n",
              "      <td>0</td>\n",
              "      <td>0</td>\n",
              "      <td>0</td>\n",
              "      <td>0</td>\n",
              "      <td>0</td>\n",
              "      <td>0</td>\n",
              "      <td>0</td>\n",
              "      <td>0</td>\n",
              "      <td>0</td>\n",
              "      <td>0</td>\n",
              "      <td>0</td>\n",
              "      <td>0</td>\n",
              "      <td>0</td>\n",
              "      <td>0</td>\n",
              "      <td>0</td>\n",
              "      <td>0</td>\n",
              "      <td>0</td>\n",
              "      <td>0</td>\n",
              "      <td>0</td>\n",
              "      <td>0</td>\n",
              "      <td>0</td>\n",
              "      <td>0</td>\n",
              "      <td>0</td>\n",
              "      <td>0</td>\n",
              "      <td>0</td>\n",
              "      <td>0</td>\n",
              "      <td>0</td>\n",
              "      <td>0</td>\n",
              "      <td>0</td>\n",
              "      <td>0</td>\n",
              "      <td>0</td>\n",
              "      <td>0</td>\n",
              "      <td>0</td>\n",
              "      <td>0</td>\n",
              "      <td>...</td>\n",
              "      <td>0</td>\n",
              "      <td>0</td>\n",
              "      <td>0</td>\n",
              "      <td>0</td>\n",
              "      <td>0</td>\n",
              "      <td>0</td>\n",
              "      <td>0</td>\n",
              "      <td>0</td>\n",
              "      <td>0</td>\n",
              "      <td>0</td>\n",
              "      <td>0</td>\n",
              "      <td>0</td>\n",
              "      <td>0</td>\n",
              "      <td>0</td>\n",
              "      <td>0</td>\n",
              "      <td>0</td>\n",
              "      <td>0</td>\n",
              "      <td>0</td>\n",
              "      <td>0</td>\n",
              "      <td>0</td>\n",
              "      <td>0</td>\n",
              "      <td>0</td>\n",
              "      <td>0</td>\n",
              "      <td>0</td>\n",
              "      <td>0</td>\n",
              "      <td>0</td>\n",
              "      <td>0</td>\n",
              "      <td>0</td>\n",
              "      <td>0</td>\n",
              "      <td>0</td>\n",
              "      <td>0</td>\n",
              "      <td>0</td>\n",
              "      <td>0</td>\n",
              "      <td>0</td>\n",
              "      <td>0</td>\n",
              "      <td>0</td>\n",
              "      <td>0</td>\n",
              "      <td>0</td>\n",
              "      <td>0</td>\n",
              "      <td>0</td>\n",
              "    </tr>\n",
              "    <tr>\n",
              "      <th>1</th>\n",
              "      <td>0</td>\n",
              "      <td>0</td>\n",
              "      <td>0</td>\n",
              "      <td>0</td>\n",
              "      <td>0</td>\n",
              "      <td>0</td>\n",
              "      <td>0</td>\n",
              "      <td>0</td>\n",
              "      <td>0</td>\n",
              "      <td>0</td>\n",
              "      <td>0</td>\n",
              "      <td>0</td>\n",
              "      <td>0</td>\n",
              "      <td>0</td>\n",
              "      <td>0</td>\n",
              "      <td>0</td>\n",
              "      <td>0</td>\n",
              "      <td>0</td>\n",
              "      <td>0</td>\n",
              "      <td>0</td>\n",
              "      <td>0</td>\n",
              "      <td>0</td>\n",
              "      <td>0</td>\n",
              "      <td>0</td>\n",
              "      <td>0</td>\n",
              "      <td>0</td>\n",
              "      <td>0</td>\n",
              "      <td>0</td>\n",
              "      <td>0</td>\n",
              "      <td>0</td>\n",
              "      <td>0</td>\n",
              "      <td>0</td>\n",
              "      <td>0</td>\n",
              "      <td>0</td>\n",
              "      <td>0</td>\n",
              "      <td>0</td>\n",
              "      <td>0</td>\n",
              "      <td>0</td>\n",
              "      <td>0</td>\n",
              "      <td>0</td>\n",
              "      <td>...</td>\n",
              "      <td>0</td>\n",
              "      <td>0</td>\n",
              "      <td>0</td>\n",
              "      <td>0</td>\n",
              "      <td>0</td>\n",
              "      <td>0</td>\n",
              "      <td>0</td>\n",
              "      <td>0</td>\n",
              "      <td>0</td>\n",
              "      <td>0</td>\n",
              "      <td>0</td>\n",
              "      <td>0</td>\n",
              "      <td>0</td>\n",
              "      <td>0</td>\n",
              "      <td>0</td>\n",
              "      <td>0</td>\n",
              "      <td>0</td>\n",
              "      <td>0</td>\n",
              "      <td>0</td>\n",
              "      <td>0</td>\n",
              "      <td>0</td>\n",
              "      <td>0</td>\n",
              "      <td>0</td>\n",
              "      <td>0</td>\n",
              "      <td>0</td>\n",
              "      <td>0</td>\n",
              "      <td>0</td>\n",
              "      <td>0</td>\n",
              "      <td>0</td>\n",
              "      <td>0</td>\n",
              "      <td>0</td>\n",
              "      <td>0</td>\n",
              "      <td>0</td>\n",
              "      <td>0</td>\n",
              "      <td>0</td>\n",
              "      <td>0</td>\n",
              "      <td>0</td>\n",
              "      <td>0</td>\n",
              "      <td>0</td>\n",
              "      <td>0</td>\n",
              "    </tr>\n",
              "    <tr>\n",
              "      <th>2</th>\n",
              "      <td>0</td>\n",
              "      <td>0</td>\n",
              "      <td>0</td>\n",
              "      <td>0</td>\n",
              "      <td>0</td>\n",
              "      <td>0</td>\n",
              "      <td>0</td>\n",
              "      <td>0</td>\n",
              "      <td>0</td>\n",
              "      <td>0</td>\n",
              "      <td>0</td>\n",
              "      <td>0</td>\n",
              "      <td>0</td>\n",
              "      <td>0</td>\n",
              "      <td>0</td>\n",
              "      <td>0</td>\n",
              "      <td>0</td>\n",
              "      <td>0</td>\n",
              "      <td>0</td>\n",
              "      <td>0</td>\n",
              "      <td>0</td>\n",
              "      <td>0</td>\n",
              "      <td>0</td>\n",
              "      <td>0</td>\n",
              "      <td>0</td>\n",
              "      <td>0</td>\n",
              "      <td>0</td>\n",
              "      <td>0</td>\n",
              "      <td>0</td>\n",
              "      <td>0</td>\n",
              "      <td>0</td>\n",
              "      <td>0</td>\n",
              "      <td>0</td>\n",
              "      <td>0</td>\n",
              "      <td>0</td>\n",
              "      <td>0</td>\n",
              "      <td>0</td>\n",
              "      <td>0</td>\n",
              "      <td>0</td>\n",
              "      <td>0</td>\n",
              "      <td>...</td>\n",
              "      <td>0</td>\n",
              "      <td>0</td>\n",
              "      <td>0</td>\n",
              "      <td>0</td>\n",
              "      <td>0</td>\n",
              "      <td>0</td>\n",
              "      <td>0</td>\n",
              "      <td>0</td>\n",
              "      <td>0</td>\n",
              "      <td>0</td>\n",
              "      <td>0</td>\n",
              "      <td>0</td>\n",
              "      <td>0</td>\n",
              "      <td>0</td>\n",
              "      <td>0</td>\n",
              "      <td>0</td>\n",
              "      <td>0</td>\n",
              "      <td>0</td>\n",
              "      <td>0</td>\n",
              "      <td>0</td>\n",
              "      <td>0</td>\n",
              "      <td>0</td>\n",
              "      <td>0</td>\n",
              "      <td>0</td>\n",
              "      <td>0</td>\n",
              "      <td>0</td>\n",
              "      <td>0</td>\n",
              "      <td>0</td>\n",
              "      <td>0</td>\n",
              "      <td>0</td>\n",
              "      <td>0</td>\n",
              "      <td>0</td>\n",
              "      <td>0</td>\n",
              "      <td>0</td>\n",
              "      <td>0</td>\n",
              "      <td>0</td>\n",
              "      <td>0</td>\n",
              "      <td>0</td>\n",
              "      <td>0</td>\n",
              "      <td>0</td>\n",
              "    </tr>\n",
              "    <tr>\n",
              "      <th>3</th>\n",
              "      <td>0</td>\n",
              "      <td>0</td>\n",
              "      <td>0</td>\n",
              "      <td>0</td>\n",
              "      <td>0</td>\n",
              "      <td>0</td>\n",
              "      <td>0</td>\n",
              "      <td>0</td>\n",
              "      <td>0</td>\n",
              "      <td>0</td>\n",
              "      <td>0</td>\n",
              "      <td>0</td>\n",
              "      <td>0</td>\n",
              "      <td>0</td>\n",
              "      <td>0</td>\n",
              "      <td>0</td>\n",
              "      <td>0</td>\n",
              "      <td>0</td>\n",
              "      <td>0</td>\n",
              "      <td>0</td>\n",
              "      <td>0</td>\n",
              "      <td>0</td>\n",
              "      <td>0</td>\n",
              "      <td>0</td>\n",
              "      <td>0</td>\n",
              "      <td>0</td>\n",
              "      <td>0</td>\n",
              "      <td>0</td>\n",
              "      <td>0</td>\n",
              "      <td>0</td>\n",
              "      <td>0</td>\n",
              "      <td>0</td>\n",
              "      <td>0</td>\n",
              "      <td>0</td>\n",
              "      <td>0</td>\n",
              "      <td>0</td>\n",
              "      <td>0</td>\n",
              "      <td>0</td>\n",
              "      <td>0</td>\n",
              "      <td>0</td>\n",
              "      <td>...</td>\n",
              "      <td>0</td>\n",
              "      <td>0</td>\n",
              "      <td>0</td>\n",
              "      <td>0</td>\n",
              "      <td>0</td>\n",
              "      <td>0</td>\n",
              "      <td>0</td>\n",
              "      <td>0</td>\n",
              "      <td>0</td>\n",
              "      <td>0</td>\n",
              "      <td>0</td>\n",
              "      <td>0</td>\n",
              "      <td>0</td>\n",
              "      <td>0</td>\n",
              "      <td>0</td>\n",
              "      <td>0</td>\n",
              "      <td>0</td>\n",
              "      <td>0</td>\n",
              "      <td>0</td>\n",
              "      <td>0</td>\n",
              "      <td>0</td>\n",
              "      <td>0</td>\n",
              "      <td>0</td>\n",
              "      <td>0</td>\n",
              "      <td>0</td>\n",
              "      <td>0</td>\n",
              "      <td>0</td>\n",
              "      <td>0</td>\n",
              "      <td>0</td>\n",
              "      <td>0</td>\n",
              "      <td>0</td>\n",
              "      <td>0</td>\n",
              "      <td>0</td>\n",
              "      <td>0</td>\n",
              "      <td>0</td>\n",
              "      <td>0</td>\n",
              "      <td>0</td>\n",
              "      <td>0</td>\n",
              "      <td>0</td>\n",
              "      <td>0</td>\n",
              "    </tr>\n",
              "    <tr>\n",
              "      <th>4</th>\n",
              "      <td>0</td>\n",
              "      <td>0</td>\n",
              "      <td>0</td>\n",
              "      <td>0</td>\n",
              "      <td>0</td>\n",
              "      <td>0</td>\n",
              "      <td>0</td>\n",
              "      <td>0</td>\n",
              "      <td>0</td>\n",
              "      <td>0</td>\n",
              "      <td>0</td>\n",
              "      <td>0</td>\n",
              "      <td>0</td>\n",
              "      <td>0</td>\n",
              "      <td>0</td>\n",
              "      <td>0</td>\n",
              "      <td>0</td>\n",
              "      <td>0</td>\n",
              "      <td>0</td>\n",
              "      <td>0</td>\n",
              "      <td>0</td>\n",
              "      <td>0</td>\n",
              "      <td>0</td>\n",
              "      <td>0</td>\n",
              "      <td>0</td>\n",
              "      <td>0</td>\n",
              "      <td>0</td>\n",
              "      <td>0</td>\n",
              "      <td>0</td>\n",
              "      <td>0</td>\n",
              "      <td>0</td>\n",
              "      <td>0</td>\n",
              "      <td>0</td>\n",
              "      <td>0</td>\n",
              "      <td>0</td>\n",
              "      <td>0</td>\n",
              "      <td>0</td>\n",
              "      <td>0</td>\n",
              "      <td>0</td>\n",
              "      <td>0</td>\n",
              "      <td>...</td>\n",
              "      <td>0</td>\n",
              "      <td>0</td>\n",
              "      <td>0</td>\n",
              "      <td>0</td>\n",
              "      <td>0</td>\n",
              "      <td>0</td>\n",
              "      <td>0</td>\n",
              "      <td>0</td>\n",
              "      <td>0</td>\n",
              "      <td>0</td>\n",
              "      <td>0</td>\n",
              "      <td>0</td>\n",
              "      <td>0</td>\n",
              "      <td>0</td>\n",
              "      <td>0</td>\n",
              "      <td>0</td>\n",
              "      <td>0</td>\n",
              "      <td>0</td>\n",
              "      <td>0</td>\n",
              "      <td>0</td>\n",
              "      <td>0</td>\n",
              "      <td>0</td>\n",
              "      <td>0</td>\n",
              "      <td>0</td>\n",
              "      <td>0</td>\n",
              "      <td>0</td>\n",
              "      <td>0</td>\n",
              "      <td>0</td>\n",
              "      <td>0</td>\n",
              "      <td>0</td>\n",
              "      <td>0</td>\n",
              "      <td>0</td>\n",
              "      <td>0</td>\n",
              "      <td>0</td>\n",
              "      <td>0</td>\n",
              "      <td>0</td>\n",
              "      <td>0</td>\n",
              "      <td>0</td>\n",
              "      <td>0</td>\n",
              "      <td>0</td>\n",
              "    </tr>\n",
              "  </tbody>\n",
              "</table>\n",
              "<p>5 rows × 18005 columns</p>\n",
              "</div>"
            ],
            "text/plain": [
              "   00  000  0003  000kwh  002  008  ...  zotz  zucchini  zuke  zukes  zupas  zuppa\n",
              "0   0    0     0       0    0    0  ...     0         0     0      0      0      0\n",
              "1   0    0     0       0    0    0  ...     0         0     0      0      0      0\n",
              "2   0    0     0       0    0    0  ...     0         0     0      0      0      0\n",
              "3   0    0     0       0    0    0  ...     0         0     0      0      0      0\n",
              "4   0    0     0       0    0    0  ...     0         0     0      0      0      0\n",
              "\n",
              "[5 rows x 18005 columns]"
            ]
          },
          "metadata": {
            "tags": []
          },
          "execution_count": 24
        }
      ]
    },
    {
      "cell_type": "markdown",
      "metadata": {
        "id": "cxywksFCljYA"
      },
      "source": [
        "use this to create a bag of words from the reviews, excluding the noise words we identified earlier:\n",
        "\n"
      ]
    },
    {
      "cell_type": "code",
      "metadata": {
        "id": "0TQZE4avln_y"
      },
      "source": [
        "### Creating a python object of the class CountVectorizer\n",
        "\n",
        "bow_counts = CountVectorizer(tokenizer= word_tokenize, # type of tokenization\n",
        "                             stop_words=noise_words, # List of stopwords\n",
        "                             ngram_range=(1,1)) # number of n-grams\n",
        "\n",
        "bow_data = bow_counts.fit_transform(amazon_reviews['reviews_text_new'])"
      ],
      "execution_count": null,
      "outputs": []
    },
    {
      "cell_type": "code",
      "metadata": {
        "colab": {
          "base_uri": "https://localhost:8080/",
          "height": 162
        },
        "id": "40yaaewnlvTi",
        "outputId": "08cca726-47fa-48ff-c855-56bbfd4eed93"
      },
      "source": [
        "bow_data.head()\n"
      ],
      "execution_count": null,
      "outputs": [
        {
          "output_type": "error",
          "ename": "NameError",
          "evalue": "ignored",
          "traceback": [
            "\u001b[0;31m---------------------------------------------------------------------------\u001b[0m",
            "\u001b[0;31mNameError\u001b[0m                                 Traceback (most recent call last)",
            "\u001b[0;32m<ipython-input-1-941f36927d6e>\u001b[0m in \u001b[0;36m<module>\u001b[0;34m()\u001b[0m\n\u001b[0;32m----> 1\u001b[0;31m \u001b[0mbow_data\u001b[0m\u001b[0;34m.\u001b[0m\u001b[0mhead\u001b[0m\u001b[0;34m(\u001b[0m\u001b[0;34m)\u001b[0m\u001b[0;34m\u001b[0m\u001b[0;34m\u001b[0m\u001b[0m\n\u001b[0m",
            "\u001b[0;31mNameError\u001b[0m: name 'bow_data' is not defined"
          ]
        }
      ]
    },
    {
      "cell_type": "code",
      "metadata": {
        "id": "dkH73928l2Vd"
      },
      "source": [
        "X_train_bow, X_test_bow, y_train_bow, y_test_bow = train_test_split(bow_data, # Features\n",
        "                                                                    amazon_reviews['Sentiment_rating'], # Target variable\n",
        "                                                                    test_size = 0.2, # 20% test size\n",
        "                                                                    random_state = 0) # random state for replication purposes"
      ],
      "execution_count": null,
      "outputs": []
    },
    {
      "cell_type": "code",
      "metadata": {
        "colab": {
          "base_uri": "https://localhost:8080/"
        },
        "id": "r4esPP1al5zr",
        "outputId": "8e7253c5-7b02-4528-86b5-912908d8907f"
      },
      "source": [
        "y_test_bow.value_counts()/y_test_bow.shape[0]\n"
      ],
      "execution_count": null,
      "outputs": [
        {
          "output_type": "execute_result",
          "data": {
            "text/plain": [
              "1    0.847921\n",
              "0    0.152079\n",
              "Name: Sentiment_rating, dtype: float64"
            ]
          },
          "metadata": {
            "tags": []
          },
          "execution_count": 28
        }
      ]
    },
    {
      "cell_type": "markdown",
      "metadata": {
        "id": "Ia7Vr1ukmFj0"
      },
      "source": [
        "**Applying logistic regression:**\n",
        "\n",
        "Let's train the model on our training data and run the resulting model on our test data:"
      ]
    },
    {
      "cell_type": "code",
      "metadata": {
        "colab": {
          "base_uri": "https://localhost:8080/"
        },
        "id": "GreIW59mmQ0b",
        "outputId": "513498f7-9c32-4197-eb1b-6688a9c4df3c"
      },
      "source": [
        "### Training the model \n",
        "lr_model_all = LogisticRegression() # Logistic regression\n",
        "lr_model_all.fit(X_train_bow, y_train_bow) # Fitting a logistic regression model\n",
        "\n",
        "## Predicting the output\n",
        "test_pred_lr_all = lr_model_all.predict(X_test_bow) # Class prediction\n",
        "\n",
        "## Calculate key performance metrics\n",
        "print(\"F1 score: \", f1_score(y_test_bow, test_pred_lr_all))"
      ],
      "execution_count": null,
      "outputs": [
        {
          "output_type": "stream",
          "text": [
            "F1 score:  0.9526854219948849\n"
          ],
          "name": "stdout"
        }
      ]
    },
    {
      "cell_type": "code",
      "metadata": {
        "colab": {
          "base_uri": "https://localhost:8080/"
        },
        "id": "7oMQrN2Ri8Hc",
        "outputId": "5f140a2d-7ef5-4214-bc90-7bc162d4188d"
      },
      "source": [
        "############### RandomForest Classifier applied. \n",
        "rfc = RandomForestClassifier(n_estimators=100)\n",
        "rfc.fit(X_train_bow,y_train_bow)\n",
        "\n",
        "y_pred=rfc.predict(X_test_bow)\n",
        "\n",
        "print(\"F1 score: \",f1_score(y_test_bow,y_pred))"
      ],
      "execution_count": null,
      "outputs": [
        {
          "output_type": "stream",
          "text": [
            "F1 score:  0.9306097927305497\n"
          ],
          "name": "stdout"
        }
      ]
    },
    {
      "cell_type": "markdown",
      "metadata": {
        "id": "DITeU00GmYTo"
      },
      "source": [
        "modifying the set of features in the model to include bigrams, trigrams, and 4-grams:"
      ]
    },
    {
      "cell_type": "code",
      "metadata": {
        "id": "0DFOu5XAmb4i"
      },
      "source": [
        "### Changes with respect to the previous code\n",
        "### 1. Increasing the n-grams from just having 1-gram to (1-gram, 2-gram, 3-gram, and 4-gram)\n",
        "### 2. Including the stopwords in the bag of words features\n",
        "\n",
        "bow_counts = CountVectorizer(tokenizer= word_tokenize,\n",
        "                             ngram_range=(1,4))\n",
        "\n",
        "bow_data = bow_counts.fit_transform(amazon_reviews.reviews_text_new)"
      ],
      "execution_count": null,
      "outputs": []
    },
    {
      "cell_type": "code",
      "metadata": {
        "colab": {
          "base_uri": "https://localhost:8080/"
        },
        "id": "wdMHDVq2mids",
        "outputId": "c9608a3a-bdcc-4b86-c481-7d85d09192ec"
      },
      "source": [
        "# Notice the increase in features with inclusion of n-grams\n",
        "bow_data"
      ],
      "execution_count": null,
      "outputs": [
        {
          "output_type": "execute_result",
          "data": {
            "text/plain": [
              "<9138x1261413 sparse matrix of type '<class 'numpy.int64'>'\n",
              "\twith 2530528 stored elements in Compressed Sparse Row format>"
            ]
          },
          "metadata": {
            "tags": []
          },
          "execution_count": 32
        }
      ]
    },
    {
      "cell_type": "code",
      "metadata": {
        "id": "VAFbQVdImm8n"
      },
      "source": [
        "X_train_bow, X_test_bow, y_train_bow, y_test_bow = train_test_split(bow_data,\n",
        "                                                                    amazon_reviews['Sentiment_rating'],\n",
        "                                                                    test_size = 0.2,\n",
        "                                                                    random_state = 0)"
      ],
      "execution_count": null,
      "outputs": []
    },
    {
      "cell_type": "code",
      "metadata": {
        "colab": {
          "base_uri": "https://localhost:8080/"
        },
        "id": "WMe1ely-mrsI",
        "outputId": "deaf8d8e-fe7c-40f6-ef95-4286c3de3ebb"
      },
      "source": [
        "#### LOGISTIC REGRESSION\n",
        "# Defining and training the model\n",
        "lr_model_all_new = LogisticRegression(max_iter = 200)\n",
        "lr_model_all_new.fit(X_train_bow, y_train_bow)\n",
        "\n",
        "# Predicting the results\n",
        "test_pred_lr_all = lr_model_all_new.predict(X_test_bow)\n",
        "\n",
        "print(\"F1 score: \", f1_score(y_test_bow,test_pred_lr_all))"
      ],
      "execution_count": null,
      "outputs": [
        {
          "output_type": "stream",
          "text": [
            "F1 score:  0.9541745134965474\n"
          ],
          "name": "stdout"
        }
      ]
    },
    {
      "cell_type": "code",
      "metadata": {
        "colab": {
          "base_uri": "https://localhost:8080/"
        },
        "id": "v56DsN-llfy0",
        "outputId": "ec8d2d6e-0164-4028-b73d-03cf72fd75c0"
      },
      "source": [
        "rfc_new = RandomForestClassifier(n_estimators=100)\n",
        "rfc_new.fit(X_train_bow,y_train_bow)\n",
        "\n",
        "y_pred=rfc_new.predict(X_test_bow)\n",
        "\n",
        "print(\"F1 score: \",f1_score(y_test_bow,y_pred))"
      ],
      "execution_count": null,
      "outputs": [
        {
          "output_type": "stream",
          "text": [
            "F1 score:  0.9278659084106555\n"
          ],
          "name": "stdout"
        }
      ]
    },
    {
      "cell_type": "markdown",
      "metadata": {
        "id": "YIcNyHmCmylt"
      },
      "source": [
        "The F1-score has jumped slightly for logistic regression. This is an example of what simple hyperparameter tuning and input feature modification can do to the overall performance. We can even get interpretable features from this in terms of what contributed the most to positive and negative sentiment:"
      ]
    },
    {
      "cell_type": "code",
      "metadata": {
        "colab": {
          "base_uri": "https://localhost:8080/",
          "height": 491
        },
        "id": "XlVRycBkm0hy",
        "outputId": "14b3ead7-e5f4-4f88-846a-d2b355d5f990"
      },
      "source": [
        "lr_weights = pd.DataFrame(list(zip(bow_counts.get_feature_names(), # get all the n-gram feature names\n",
        "                                   lr_model_all_new.coef_[0])), # get the logistic regression coefficients\n",
        "                          columns= ['words','weights']) # defining the colunm names\n",
        "\n",
        "lr_weights.sort_values(['weights'], ascending = False)[:15] # top-15 more important features for positive reviews"
      ],
      "execution_count": null,
      "outputs": [
        {
          "output_type": "execute_result",
          "data": {
            "text/html": [
              "<div>\n",
              "<style scoped>\n",
              "    .dataframe tbody tr th:only-of-type {\n",
              "        vertical-align: middle;\n",
              "    }\n",
              "\n",
              "    .dataframe tbody tr th {\n",
              "        vertical-align: top;\n",
              "    }\n",
              "\n",
              "    .dataframe thead th {\n",
              "        text-align: right;\n",
              "    }\n",
              "</style>\n",
              "<table border=\"1\" class=\"dataframe\">\n",
              "  <thead>\n",
              "    <tr style=\"text-align: right;\">\n",
              "      <th></th>\n",
              "      <th>words</th>\n",
              "      <th>weights</th>\n",
              "    </tr>\n",
              "  </thead>\n",
              "  <tbody>\n",
              "    <tr>\n",
              "      <th>448809</th>\n",
              "      <td>great</td>\n",
              "      <td>1.327825</td>\n",
              "    </tr>\n",
              "    <tr>\n",
              "      <th>305794</th>\n",
              "      <td>delicious</td>\n",
              "      <td>0.952226</td>\n",
              "    </tr>\n",
              "    <tr>\n",
              "      <th>810997</th>\n",
              "      <td>perfect</td>\n",
              "      <td>0.838265</td>\n",
              "    </tr>\n",
              "    <tr>\n",
              "      <th>438773</th>\n",
              "      <td>good</td>\n",
              "      <td>0.831878</td>\n",
              "    </tr>\n",
              "    <tr>\n",
              "      <th>1023733</th>\n",
              "      <td>the best</td>\n",
              "      <td>0.820454</td>\n",
              "    </tr>\n",
              "    <tr>\n",
              "      <th>358331</th>\n",
              "      <td>excellent</td>\n",
              "      <td>0.820369</td>\n",
              "    </tr>\n",
              "    <tr>\n",
              "      <th>171393</th>\n",
              "      <td>best</td>\n",
              "      <td>0.792752</td>\n",
              "    </tr>\n",
              "    <tr>\n",
              "      <th>639088</th>\n",
              "      <td>love</td>\n",
              "      <td>0.783723</td>\n",
              "    </tr>\n",
              "    <tr>\n",
              "      <th>709971</th>\n",
              "      <td>nice</td>\n",
              "      <td>0.769280</td>\n",
              "    </tr>\n",
              "    <tr>\n",
              "      <th>930961</th>\n",
              "      <td>smooth</td>\n",
              "      <td>0.637403</td>\n",
              "    </tr>\n",
              "    <tr>\n",
              "      <th>1237853</th>\n",
              "      <td>wonderful</td>\n",
              "      <td>0.635883</td>\n",
              "    </tr>\n",
              "    <tr>\n",
              "      <th>642547</th>\n",
              "      <td>loves</td>\n",
              "      <td>0.630535</td>\n",
              "    </tr>\n",
              "    <tr>\n",
              "      <th>724010</th>\n",
              "      <td>not too</td>\n",
              "      <td>0.602626</td>\n",
              "    </tr>\n",
              "    <tr>\n",
              "      <th>370041</th>\n",
              "      <td>favorite</td>\n",
              "      <td>0.595228</td>\n",
              "    </tr>\n",
              "    <tr>\n",
              "      <th>377546</th>\n",
              "      <td>find</td>\n",
              "      <td>0.584456</td>\n",
              "    </tr>\n",
              "  </tbody>\n",
              "</table>\n",
              "</div>"
            ],
            "text/plain": [
              "             words   weights\n",
              "448809       great  1.327825\n",
              "305794   delicious  0.952226\n",
              "810997     perfect  0.838265\n",
              "438773        good  0.831878\n",
              "1023733   the best  0.820454\n",
              "358331   excellent  0.820369\n",
              "171393        best  0.792752\n",
              "639088        love  0.783723\n",
              "709971        nice  0.769280\n",
              "930961      smooth  0.637403\n",
              "1237853  wonderful  0.635883\n",
              "642547       loves  0.630535\n",
              "724010     not too  0.602626\n",
              "370041    favorite  0.595228\n",
              "377546        find  0.584456"
            ]
          },
          "metadata": {
            "tags": []
          },
          "execution_count": 47
        }
      ]
    },
    {
      "cell_type": "code",
      "metadata": {
        "colab": {
          "base_uri": "https://localhost:8080/",
          "height": 491
        },
        "id": "k3vH-xP-m685",
        "outputId": "d31e4969-6e4d-40bc-d957-166688c2e361"
      },
      "source": [
        "lr_weights.sort_values(['weights'], ascending = False)[-15:] # top-15 more important features for negative reviews\n"
      ],
      "execution_count": null,
      "outputs": [
        {
          "output_type": "execute_result",
          "data": {
            "text/html": [
              "<div>\n",
              "<style scoped>\n",
              "    .dataframe tbody tr th:only-of-type {\n",
              "        vertical-align: middle;\n",
              "    }\n",
              "\n",
              "    .dataframe tbody tr th {\n",
              "        vertical-align: top;\n",
              "    }\n",
              "\n",
              "    .dataframe thead th {\n",
              "        text-align: right;\n",
              "    }\n",
              "</style>\n",
              "<table border=\"1\" class=\"dataframe\">\n",
              "  <thead>\n",
              "    <tr style=\"text-align: right;\">\n",
              "      <th></th>\n",
              "      <th>words</th>\n",
              "      <th>weights</th>\n",
              "    </tr>\n",
              "  </thead>\n",
              "  <tbody>\n",
              "    <tr>\n",
              "      <th>1241695</th>\n",
              "      <td>worst</td>\n",
              "      <td>-0.542737</td>\n",
              "    </tr>\n",
              "    <tr>\n",
              "      <th>1175374</th>\n",
              "      <td>very disappointed</td>\n",
              "      <td>-0.558068</td>\n",
              "    </tr>\n",
              "    <tr>\n",
              "      <th>1206112</th>\n",
              "      <td>were</td>\n",
              "      <td>-0.564819</td>\n",
              "    </tr>\n",
              "    <tr>\n",
              "      <th>874505</th>\n",
              "      <td>return</td>\n",
              "      <td>-0.568158</td>\n",
              "    </tr>\n",
              "    <tr>\n",
              "      <th>143979</th>\n",
              "      <td>away</td>\n",
              "      <td>-0.573385</td>\n",
              "    </tr>\n",
              "    <tr>\n",
              "      <th>959625</th>\n",
              "      <td>stick</td>\n",
              "      <td>-0.585494</td>\n",
              "    </tr>\n",
              "    <tr>\n",
              "      <th>144964</th>\n",
              "      <td>awful</td>\n",
              "      <td>-0.593931</td>\n",
              "    </tr>\n",
              "    <tr>\n",
              "      <th>1193585</th>\n",
              "      <td>waste</td>\n",
              "      <td>-0.612413</td>\n",
              "    </tr>\n",
              "    <tr>\n",
              "      <th>317336</th>\n",
              "      <td>disappointing</td>\n",
              "      <td>-0.613688</td>\n",
              "    </tr>\n",
              "    <tr>\n",
              "      <th>982546</th>\n",
              "      <td>t</td>\n",
              "      <td>-0.674788</td>\n",
              "    </tr>\n",
              "    <tr>\n",
              "      <th>148156</th>\n",
              "      <td>bad</td>\n",
              "      <td>-0.693502</td>\n",
              "    </tr>\n",
              "    <tr>\n",
              "      <th>1201325</th>\n",
              "      <td>weak</td>\n",
              "      <td>-0.731766</td>\n",
              "    </tr>\n",
              "    <tr>\n",
              "      <th>352214</th>\n",
              "      <td>even</td>\n",
              "      <td>-0.793842</td>\n",
              "    </tr>\n",
              "    <tr>\n",
              "      <th>716808</th>\n",
              "      <td>not</td>\n",
              "      <td>-1.014964</td>\n",
              "    </tr>\n",
              "    <tr>\n",
              "      <th>316985</th>\n",
              "      <td>disappointed</td>\n",
              "      <td>-1.166413</td>\n",
              "    </tr>\n",
              "  </tbody>\n",
              "</table>\n",
              "</div>"
            ],
            "text/plain": [
              "                     words   weights\n",
              "1241695              worst -0.542737\n",
              "1175374  very disappointed -0.558068\n",
              "1206112               were -0.564819\n",
              "874505              return -0.568158\n",
              "143979                away -0.573385\n",
              "959625               stick -0.585494\n",
              "144964               awful -0.593931\n",
              "1193585              waste -0.612413\n",
              "317336       disappointing -0.613688\n",
              "982546                   t -0.674788\n",
              "148156                 bad -0.693502\n",
              "1201325               weak -0.731766\n",
              "352214                even -0.793842\n",
              "716808                 not -1.014964\n",
              "316985        disappointed -1.166413"
            ]
          },
          "metadata": {
            "tags": []
          },
          "execution_count": 48
        }
      ]
    },
    {
      "cell_type": "markdown",
      "metadata": {
        "id": "SdphCnGmm_Hz"
      },
      "source": [
        "**TF-IDF model**\n",
        "\n",
        "re-featurize our original set of reviews based on TF-IDF and split the resulting features into train and test sets:"
      ]
    },
    {
      "cell_type": "code",
      "metadata": {
        "id": "2KwNJt0tnHb7"
      },
      "source": [
        "from sklearn.feature_extraction.text import TfidfVectorizer\n",
        "\n",
        "### Creating a python object of the class CountVectorizer\n",
        "tfidf_counts = TfidfVectorizer(tokenizer= word_tokenize, # type of tokenization\n",
        "                               stop_words=noise_words, # List of stopwords\n",
        "                               ngram_range=(1,1)) # number of n-grams\n",
        "\n",
        "tfidf_data = tfidf_counts.fit_transform(amazon_reviews['reviews_text_new'])"
      ],
      "execution_count": null,
      "outputs": []
    },
    {
      "cell_type": "code",
      "metadata": {
        "colab": {
          "base_uri": "https://localhost:8080/"
        },
        "id": "dg9AljPjnMPq",
        "outputId": "b3542093-60e2-4dbf-beb3-7276f79c60b8"
      },
      "source": [
        "tfidf_data\n"
      ],
      "execution_count": null,
      "outputs": [
        {
          "output_type": "execute_result",
          "data": {
            "text/plain": [
              "<9138x18039 sparse matrix of type '<class 'numpy.float64'>'\n",
              "\twith 493450 stored elements in Compressed Sparse Row format>"
            ]
          },
          "metadata": {
            "tags": []
          },
          "execution_count": 38
        }
      ]
    },
    {
      "cell_type": "code",
      "metadata": {
        "id": "N7IImvJonP4C"
      },
      "source": [
        "X_train_tfidf, X_test_tfidf, y_train_tfidf, y_test_tfidf = train_test_split(tfidf_data,\n",
        "                                                                            amazon_reviews['Sentiment_rating'],\n",
        "                                                                            test_size = 0.2,\n",
        "                                                                            random_state = 0)"
      ],
      "execution_count": null,
      "outputs": []
    },
    {
      "cell_type": "markdown",
      "metadata": {
        "id": "ldHDmUPRne3_"
      },
      "source": [
        "Applying logistic regression to TF-IDF features"
      ]
    },
    {
      "cell_type": "code",
      "metadata": {
        "colab": {
          "base_uri": "https://localhost:8080/"
        },
        "id": "szsgw_8Ynfy8",
        "outputId": "d6f648b1-5f46-4cee-95e4-9a0af6ceb9ee"
      },
      "source": [
        "### Setting up the model class\n",
        "lr_model_tf_idf = LogisticRegression()\n",
        "\n",
        "## Training the model \n",
        "lr_model_tf_idf.fit(X_train_tfidf,y_train_tfidf)\n",
        "\n",
        "## Prediciting the results\n",
        "test_pred_lr_all = lr_model_tf_idf.predict(X_test_tfidf)\n",
        "\n",
        "## Evaluating the model\n",
        "print(\"F1 score: \",f1_score(y_test_tfidf, test_pred_lr_all))"
      ],
      "execution_count": null,
      "outputs": [
        {
          "output_type": "stream",
          "text": [
            "F1 score:  0.9396341463414635\n"
          ],
          "name": "stdout"
        }
      ]
    },
    {
      "cell_type": "markdown",
      "metadata": {
        "id": "0DmeDIBVnRzO"
      },
      "source": [
        "Applying RandomForest classifier to TF-IDF features"
      ]
    },
    {
      "cell_type": "code",
      "metadata": {
        "colab": {
          "base_uri": "https://localhost:8080/"
        },
        "id": "RPyS-qoJnZPW",
        "outputId": "c1792efd-23f2-4b08-e6c9-b547c3d06ac7"
      },
      "source": [
        "rfc_tf = RandomForestClassifier(n_estimators=100)\n",
        "rfc_tf.fit(X_train_tfidf,y_train_tfidf)\n",
        "\n",
        "y_pred=rfc_tf.predict(X_test_tfidf)\n",
        "\n",
        "print(\"F1 score: \",f1_score(y_test_tfidf,y_pred))"
      ],
      "execution_count": null,
      "outputs": [
        {
          "output_type": "stream",
          "text": [
            "F1 score:  0.9278659084106555\n"
          ],
          "name": "stdout"
        }
      ]
    }
  ]
}