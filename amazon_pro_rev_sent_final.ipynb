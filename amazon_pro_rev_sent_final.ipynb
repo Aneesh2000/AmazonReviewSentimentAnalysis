{
  "nbformat": 4,
  "nbformat_minor": 0,
  "metadata": {
    "colab": {
      "name": "amazon_pro_rev_sent_final.ipynb",
      "provenance": [],
      "collapsed_sections": []
    },
    "kernelspec": {
      "name": "python3",
      "display_name": "Python 3"
    },
    "language_info": {
      "name": "python"
    }
  },
  "cells": [
    {
      "cell_type": "markdown",
      "metadata": {
        "id": "Dw1duauNlWb5"
      },
      "source": [
        "**Importing Required Libraries**"
      ]
    },
    {
      "cell_type": "code",
      "metadata": {
        "id": "01usvgXguS8L"
      },
      "source": [
        "import numpy as np\n",
        "import pandas as pd\n",
        "import seaborn as sns\n",
        "import matplotlib.pyplot as plt\n",
        "import os\n",
        "\n",
        "#NLP Packages\n",
        "import nltk\n",
        "from nltk import word_tokenize\n",
        "from sklearn.feature_extraction.text import CountVectorizer\n",
        "from sklearn.feature_extraction.text import TfidfVectorizer\n",
        "from collections import Counter\n",
        "from wordcloud import WordCloud\n",
        "\n",
        "# PAckages for models\n",
        "from sklearn.model_selection import train_test_split,GridSearchCV\n",
        "from sklearn.linear_model import LogisticRegression\n",
        "from sklearn.ensemble import RandomForestClassifier\n",
        "from sklearn.metrics import accuracy_score\n",
        "from sklearn.metrics import f1_score\n",
        "\n",
        "# packages for avoiding warning data. \n",
        "from pylab import rcParams\n",
        "import warnings\n",
        "warnings.filterwarnings(\"ignore\")\n",
        "rcParams['figure.figsize'] = 14, 6\n",
        "plt.style.use('ggplot')"
      ],
      "execution_count": null,
      "outputs": []
    },
    {
      "cell_type": "code",
      "metadata": {
        "colab": {
          "base_uri": "https://localhost:8080/",
          "height": 262
        },
        "id": "9To_HAsGu78i",
        "outputId": "38f5929a-ea8f-49d4-e979-021f650cf6e1"
      },
      "source": [
        "amazon_reviews = pd.read_csv('https://media.githubusercontent.com/media/juliandariomirandacalle/NLP_Notebooks/master/01-Introduction_NLP/Customer_Reviews.csv')\n",
        "amazon_reviews.head()\n",
        "#print(amazon_reviews['Score'].value_counts())"
      ],
      "execution_count": null,
      "outputs": [
        {
          "output_type": "execute_result",
          "data": {
            "text/html": [
              "<div>\n",
              "<style scoped>\n",
              "    .dataframe tbody tr th:only-of-type {\n",
              "        vertical-align: middle;\n",
              "    }\n",
              "\n",
              "    .dataframe tbody tr th {\n",
              "        vertical-align: top;\n",
              "    }\n",
              "\n",
              "    .dataframe thead th {\n",
              "        text-align: right;\n",
              "    }\n",
              "</style>\n",
              "<table border=\"1\" class=\"dataframe\">\n",
              "  <thead>\n",
              "    <tr style=\"text-align: right;\">\n",
              "      <th></th>\n",
              "      <th>ProductId</th>\n",
              "      <th>UserId</th>\n",
              "      <th>ProfileName</th>\n",
              "      <th>HelpfulnessNumerator</th>\n",
              "      <th>HelpfulnessDenominator</th>\n",
              "      <th>Score</th>\n",
              "      <th>Time</th>\n",
              "      <th>Summary</th>\n",
              "      <th>Text</th>\n",
              "    </tr>\n",
              "  </thead>\n",
              "  <tbody>\n",
              "    <tr>\n",
              "      <th>0</th>\n",
              "      <td>B001E4KFG0</td>\n",
              "      <td>A3SGXH7AUHU8GW</td>\n",
              "      <td>delmartian</td>\n",
              "      <td>1</td>\n",
              "      <td>1</td>\n",
              "      <td>5</td>\n",
              "      <td>1303862400</td>\n",
              "      <td>Good Quality Dog Food</td>\n",
              "      <td>I have bought several of the Vitality canned d...</td>\n",
              "    </tr>\n",
              "    <tr>\n",
              "      <th>1</th>\n",
              "      <td>B00813GRG4</td>\n",
              "      <td>A1D87F6ZCVE5NK</td>\n",
              "      <td>dll pa</td>\n",
              "      <td>0</td>\n",
              "      <td>0</td>\n",
              "      <td>1</td>\n",
              "      <td>1346976000</td>\n",
              "      <td>Not as Advertised</td>\n",
              "      <td>Product arrived labeled as Jumbo Salted Peanut...</td>\n",
              "    </tr>\n",
              "    <tr>\n",
              "      <th>2</th>\n",
              "      <td>B000LQOCH0</td>\n",
              "      <td>ABXLMWJIXXAIN</td>\n",
              "      <td>Natalia Corres \"Natalia Corres\"</td>\n",
              "      <td>1</td>\n",
              "      <td>1</td>\n",
              "      <td>4</td>\n",
              "      <td>1219017600</td>\n",
              "      <td>\"Delight\" says it all</td>\n",
              "      <td>This is a confection that has been around a fe...</td>\n",
              "    </tr>\n",
              "    <tr>\n",
              "      <th>3</th>\n",
              "      <td>B000UA0QIQ</td>\n",
              "      <td>A395BORC6FGVXV</td>\n",
              "      <td>Karl</td>\n",
              "      <td>3</td>\n",
              "      <td>3</td>\n",
              "      <td>2</td>\n",
              "      <td>1307923200</td>\n",
              "      <td>Cough Medicine</td>\n",
              "      <td>If you are looking for the secret ingredient i...</td>\n",
              "    </tr>\n",
              "    <tr>\n",
              "      <th>4</th>\n",
              "      <td>B006K2ZZ7K</td>\n",
              "      <td>A1UQRSCLF8GW1T</td>\n",
              "      <td>Michael D. Bigham \"M. Wassir\"</td>\n",
              "      <td>0</td>\n",
              "      <td>0</td>\n",
              "      <td>5</td>\n",
              "      <td>1350777600</td>\n",
              "      <td>Great taffy</td>\n",
              "      <td>Great taffy at a great price.  There was a wid...</td>\n",
              "    </tr>\n",
              "  </tbody>\n",
              "</table>\n",
              "</div>"
            ],
            "text/plain": [
              "    ProductId  ...                                               Text\n",
              "0  B001E4KFG0  ...  I have bought several of the Vitality canned d...\n",
              "1  B00813GRG4  ...  Product arrived labeled as Jumbo Salted Peanut...\n",
              "2  B000LQOCH0  ...  This is a confection that has been around a fe...\n",
              "3  B000UA0QIQ  ...  If you are looking for the secret ingredient i...\n",
              "4  B006K2ZZ7K  ...  Great taffy at a great price.  There was a wid...\n",
              "\n",
              "[5 rows x 9 columns]"
            ]
          },
          "metadata": {
            "tags": []
          },
          "execution_count": 2
        }
      ]
    },
    {
      "cell_type": "markdown",
      "metadata": {
        "id": "wAazgWZAjaS2"
      },
      "source": [
        "**Looking for number of words per review**"
      ]
    },
    {
      "cell_type": "code",
      "metadata": {
        "colab": {
          "base_uri": "https://localhost:8080/",
          "height": 501
        },
        "id": "_9KwPwMfjKnW",
        "outputId": "4e2eae18-db44-4cd0-97f6-937de34548c2"
      },
      "source": [
        "words_per_review = amazon_reviews.Text.apply(lambda x:len(x.split()))\n",
        "words_per_review.hist(bins = 100)\n",
        "plt.xlabel(\"len of Review\")\n",
        "plt.ylabel(\"Freq\")\n",
        "plt.show()\n",
        "print(\"data in words_per_review\")\n",
        "words_per_review"
      ],
      "execution_count": null,
      "outputs": [
        {
          "output_type": "display_data",
          "data": {
            "image/png": "[encoded data removed]",
            "text/plain": [
              "<Figure size 432x288 with 1 Axes>"
            ]
          },
          "metadata": {
            "tags": [],
            "needs_background": "light"
          }
        },
        {
          "output_type": "stream",
          "text": [
            "data in words_per_review\n"
          ],
          "name": "stdout"
        },
        {
          "output_type": "execute_result",
          "data": {
            "text/plain": [
              "0        48\n",
              "1        31\n",
              "2        94\n",
              "3        41\n",
              "4        27\n",
              "       ... \n",
              "9995     74\n",
              "9996     80\n",
              "9997    174\n",
              "9998     24\n",
              "9999    198\n",
              "Name: Text, Length: 10000, dtype: int64"
            ]
          },
          "metadata": {
            "tags": []
          },
          "execution_count": 3
        }
      ]
    },
    {
      "cell_type": "code",
      "metadata": {
        "colab": {
          "base_uri": "https://localhost:8080/",
          "height": 198
        },
        "id": "UmRJW6__QboZ",
        "outputId": "e14221ed-5efd-4733-8b86-85209ac6fc4f"
      },
      "source": [
        "word_cloud_text = ''.join(amazon_reviews['Text'])\n",
        "wordcloud = WordCloud(max_font_size=100,max_words=100,background_color=\"white\",\n",
        "                      scale = 10, width=800,height=400).generate(word_cloud_text)\n",
        "plt.figure()\n",
        "plt.imshow(wordcloud,interpolation=\"bilinear\")\n",
        "plt.axis(\"off\")\n",
        "plt.show()"
      ],
      "execution_count": null,
      "outputs": [
        {
          "output_type": "display_data",
          "data": {
            "image/png": "[encoded data removed]",
            "text/plain": [
              "<Figure size 432x288 with 1 Axes>"
            ]
          },
          "metadata": {
            "tags": [],
            "needs_background": "light"
          }
        }
      ]
    },
    {
      "cell_type": "markdown",
      "metadata": {
        "id": "QBlr-Mfzj3nd"
      },
      "source": [
        "**Standardizing the ratings for sentiment analysis**"
      ]
    },
    {
      "cell_type": "code",
      "metadata": {
        "colab": {
          "base_uri": "https://localhost:8080/",
          "height": 620
        },
        "id": "C_cL8Yr7u8sQ",
        "outputId": "7479b4bc-3e18-40e7-f64f-4273195d9168"
      },
      "source": [
        "# Mapping the ratings\n",
        "# amazon_reviews['Sentiment_rating'] = np.where(amazon_reviews.Score > 3,1,0)\n",
        "\n",
        "# ## Removing neutral reviews \n",
        "amazon_reviews = amazon_reviews[amazon_reviews.Score != 5]\n",
        "# # if amazon_reviews.Score==3:\n",
        "# #   amazon_reviews['Sentiment_rating']=2\n",
        "# amazon_reviews['Sentiment_rating'] = np.where(amazon_reviews.Score = 3,2)\n",
        "\n",
        "# # Printing the counts of each class\n",
        "# counts= amazon_reviews['Sentiment_rating'].value_counts()\n",
        "# print(counts)\n",
        "\n",
        "# amazon_reviews.head(3)\n",
        "\n",
        "def sentiment(n):\n",
        "    if n==3:\n",
        "      return 0 #neutral \n",
        "    elif n <3:\n",
        "      return 1 #for negative\n",
        "    else:\n",
        "      return 2 #for positive review.\n",
        "amazon_reviews['Sentiment_rating']  = amazon_reviews['Score'].apply(sentiment)\n",
        "amazon_reviews\n",
        "#amazon_reviews['Sentiment_rating'].value_counts()"
      ],
      "execution_count": null,
      "outputs": [
        {
          "output_type": "execute_result",
          "data": {
            "text/html": [
              "<div>\n",
              "<style scoped>\n",
              "    .dataframe tbody tr th:only-of-type {\n",
              "        vertical-align: middle;\n",
              "    }\n",
              "\n",
              "    .dataframe tbody tr th {\n",
              "        vertical-align: top;\n",
              "    }\n",
              "\n",
              "    .dataframe thead th {\n",
              "        text-align: right;\n",
              "    }\n",
              "</style>\n",
              "<table border=\"1\" class=\"dataframe\">\n",
              "  <thead>\n",
              "    <tr style=\"text-align: right;\">\n",
              "      <th></th>\n",
              "      <th>ProductId</th>\n",
              "      <th>UserId</th>\n",
              "      <th>ProfileName</th>\n",
              "      <th>HelpfulnessNumerator</th>\n",
              "      <th>HelpfulnessDenominator</th>\n",
              "      <th>Score</th>\n",
              "      <th>Time</th>\n",
              "      <th>Summary</th>\n",
              "      <th>Text</th>\n",
              "      <th>Sentiment_rating</th>\n",
              "    </tr>\n",
              "  </thead>\n",
              "  <tbody>\n",
              "    <tr>\n",
              "      <th>1</th>\n",
              "      <td>B00813GRG4</td>\n",
              "      <td>A1D87F6ZCVE5NK</td>\n",
              "      <td>dll pa</td>\n",
              "      <td>0</td>\n",
              "      <td>0</td>\n",
              "      <td>1</td>\n",
              "      <td>1346976000</td>\n",
              "      <td>Not as Advertised</td>\n",
              "      <td>Product arrived labeled as Jumbo Salted Peanut...</td>\n",
              "      <td>1</td>\n",
              "    </tr>\n",
              "    <tr>\n",
              "      <th>2</th>\n",
              "      <td>B000LQOCH0</td>\n",
              "      <td>ABXLMWJIXXAIN</td>\n",
              "      <td>Natalia Corres \"Natalia Corres\"</td>\n",
              "      <td>1</td>\n",
              "      <td>1</td>\n",
              "      <td>4</td>\n",
              "      <td>1219017600</td>\n",
              "      <td>\"Delight\" says it all</td>\n",
              "      <td>This is a confection that has been around a fe...</td>\n",
              "      <td>2</td>\n",
              "    </tr>\n",
              "    <tr>\n",
              "      <th>3</th>\n",
              "      <td>B000UA0QIQ</td>\n",
              "      <td>A395BORC6FGVXV</td>\n",
              "      <td>Karl</td>\n",
              "      <td>3</td>\n",
              "      <td>3</td>\n",
              "      <td>2</td>\n",
              "      <td>1307923200</td>\n",
              "      <td>Cough Medicine</td>\n",
              "      <td>If you are looking for the secret ingredient i...</td>\n",
              "      <td>1</td>\n",
              "    </tr>\n",
              "    <tr>\n",
              "      <th>5</th>\n",
              "      <td>B006K2ZZ7K</td>\n",
              "      <td>ADT0SRK1MGOEU</td>\n",
              "      <td>Twoapennything</td>\n",
              "      <td>0</td>\n",
              "      <td>0</td>\n",
              "      <td>4</td>\n",
              "      <td>1342051200</td>\n",
              "      <td>Nice Taffy</td>\n",
              "      <td>I got a wild hair for taffy and ordered this f...</td>\n",
              "      <td>2</td>\n",
              "    </tr>\n",
              "    <tr>\n",
              "      <th>12</th>\n",
              "      <td>B0009XLVG0</td>\n",
              "      <td>A327PCT23YH90</td>\n",
              "      <td>LT</td>\n",
              "      <td>1</td>\n",
              "      <td>1</td>\n",
              "      <td>1</td>\n",
              "      <td>1339545600</td>\n",
              "      <td>My Cats Are Not Fans of the New Food</td>\n",
              "      <td>My cats have been happily eating Felidae Plati...</td>\n",
              "      <td>1</td>\n",
              "    </tr>\n",
              "    <tr>\n",
              "      <th>...</th>\n",
              "      <td>...</td>\n",
              "      <td>...</td>\n",
              "      <td>...</td>\n",
              "      <td>...</td>\n",
              "      <td>...</td>\n",
              "      <td>...</td>\n",
              "      <td>...</td>\n",
              "      <td>...</td>\n",
              "      <td>...</td>\n",
              "      <td>...</td>\n",
              "    </tr>\n",
              "    <tr>\n",
              "      <th>9982</th>\n",
              "      <td>B0032AM8H8</td>\n",
              "      <td>A312MFKWEGW6PV</td>\n",
              "      <td>Cassiopeia \"CJ\"</td>\n",
              "      <td>0</td>\n",
              "      <td>0</td>\n",
              "      <td>3</td>\n",
              "      <td>1296691200</td>\n",
              "      <td>Tasty tea, limited help for heartburn</td>\n",
              "      <td>This is a pleasant tea, it tastes mostly of ch...</td>\n",
              "      <td>0</td>\n",
              "    </tr>\n",
              "    <tr>\n",
              "      <th>9985</th>\n",
              "      <td>B000P41A28</td>\n",
              "      <td>A2OOCPLJM7I4VA</td>\n",
              "      <td>Victoria Compton \"Hyakamooks\"</td>\n",
              "      <td>38</td>\n",
              "      <td>48</td>\n",
              "      <td>1</td>\n",
              "      <td>1222646400</td>\n",
              "      <td>Constipation + Sucrose = No, thanks!</td>\n",
              "      <td>You think you're doing something good for your...</td>\n",
              "      <td>1</td>\n",
              "    </tr>\n",
              "    <tr>\n",
              "      <th>9986</th>\n",
              "      <td>B000P41A28</td>\n",
              "      <td>AMZ97CCWOB453</td>\n",
              "      <td>Pregbaby</td>\n",
              "      <td>18</td>\n",
              "      <td>24</td>\n",
              "      <td>2</td>\n",
              "      <td>1249948800</td>\n",
              "      <td>Read this article first</td>\n",
              "      <td>2.0 out of 5 stars Read this article first, Au...</td>\n",
              "      <td>1</td>\n",
              "    </tr>\n",
              "    <tr>\n",
              "      <th>9995</th>\n",
              "      <td>B000P41A28</td>\n",
              "      <td>A3A63RACXR1XIL</td>\n",
              "      <td>A. Boodhoo \"deaddodo\"</td>\n",
              "      <td>10</td>\n",
              "      <td>15</td>\n",
              "      <td>1</td>\n",
              "      <td>1204502400</td>\n",
              "      <td>constipation</td>\n",
              "      <td>we switched from the advance similac to the or...</td>\n",
              "      <td>1</td>\n",
              "    </tr>\n",
              "    <tr>\n",
              "      <th>9999</th>\n",
              "      <td>B000P41A28</td>\n",
              "      <td>A82WIMR4RSVLI</td>\n",
              "      <td>Emrose mom</td>\n",
              "      <td>0</td>\n",
              "      <td>1</td>\n",
              "      <td>4</td>\n",
              "      <td>1337472000</td>\n",
              "      <td>The best weve tried so far</td>\n",
              "      <td>We have a 7 week old... He had gas and constip...</td>\n",
              "      <td>2</td>\n",
              "    </tr>\n",
              "  </tbody>\n",
              "</table>\n",
              "<p>3817 rows × 10 columns</p>\n",
              "</div>"
            ],
            "text/plain": [
              "       ProductId  ... Sentiment_rating\n",
              "1     B00813GRG4  ...                1\n",
              "2     B000LQOCH0  ...                2\n",
              "3     B000UA0QIQ  ...                1\n",
              "5     B006K2ZZ7K  ...                2\n",
              "12    B0009XLVG0  ...                1\n",
              "...          ...  ...              ...\n",
              "9982  B0032AM8H8  ...                0\n",
              "9985  B000P41A28  ...                1\n",
              "9986  B000P41A28  ...                1\n",
              "9995  B000P41A28  ...                1\n",
              "9999  B000P41A28  ...                2\n",
              "\n",
              "[3817 rows x 10 columns]"
            ]
          },
          "metadata": {
            "tags": []
          },
          "execution_count": 5
        }
      ]
    },
    {
      "cell_type": "code",
      "metadata": {
        "id": "hyTRCHgNu8wD",
        "colab": {
          "base_uri": "https://localhost:8080/",
          "height": 906
        },
        "outputId": "2d2ec0d3-91b6-4aae-fbec-3aa885c06465"
      },
      "source": [
        "amazon_reviews['reviews_text_new'] = amazon_reviews['Text'].str.lower()\n",
        "amazon_reviews"
      ],
      "execution_count": null,
      "outputs": [
        {
          "output_type": "execute_result",
          "data": {
            "text/html": [
              "<div>\n",
              "<style scoped>\n",
              "    .dataframe tbody tr th:only-of-type {\n",
              "        vertical-align: middle;\n",
              "    }\n",
              "\n",
              "    .dataframe tbody tr th {\n",
              "        vertical-align: top;\n",
              "    }\n",
              "\n",
              "    .dataframe thead th {\n",
              "        text-align: right;\n",
              "    }\n",
              "</style>\n",
              "<table border=\"1\" class=\"dataframe\">\n",
              "  <thead>\n",
              "    <tr style=\"text-align: right;\">\n",
              "      <th></th>\n",
              "      <th>ProductId</th>\n",
              "      <th>UserId</th>\n",
              "      <th>ProfileName</th>\n",
              "      <th>HelpfulnessNumerator</th>\n",
              "      <th>HelpfulnessDenominator</th>\n",
              "      <th>Score</th>\n",
              "      <th>Time</th>\n",
              "      <th>Summary</th>\n",
              "      <th>Text</th>\n",
              "      <th>Sentiment_rating</th>\n",
              "      <th>reviews_text_new</th>\n",
              "    </tr>\n",
              "  </thead>\n",
              "  <tbody>\n",
              "    <tr>\n",
              "      <th>1</th>\n",
              "      <td>B00813GRG4</td>\n",
              "      <td>A1D87F6ZCVE5NK</td>\n",
              "      <td>dll pa</td>\n",
              "      <td>0</td>\n",
              "      <td>0</td>\n",
              "      <td>1</td>\n",
              "      <td>1346976000</td>\n",
              "      <td>Not as Advertised</td>\n",
              "      <td>Product arrived labeled as Jumbo Salted Peanut...</td>\n",
              "      <td>1</td>\n",
              "      <td>product arrived labeled as jumbo salted peanut...</td>\n",
              "    </tr>\n",
              "    <tr>\n",
              "      <th>2</th>\n",
              "      <td>B000LQOCH0</td>\n",
              "      <td>ABXLMWJIXXAIN</td>\n",
              "      <td>Natalia Corres \"Natalia Corres\"</td>\n",
              "      <td>1</td>\n",
              "      <td>1</td>\n",
              "      <td>4</td>\n",
              "      <td>1219017600</td>\n",
              "      <td>\"Delight\" says it all</td>\n",
              "      <td>This is a confection that has been around a fe...</td>\n",
              "      <td>2</td>\n",
              "      <td>this is a confection that has been around a fe...</td>\n",
              "    </tr>\n",
              "    <tr>\n",
              "      <th>3</th>\n",
              "      <td>B000UA0QIQ</td>\n",
              "      <td>A395BORC6FGVXV</td>\n",
              "      <td>Karl</td>\n",
              "      <td>3</td>\n",
              "      <td>3</td>\n",
              "      <td>2</td>\n",
              "      <td>1307923200</td>\n",
              "      <td>Cough Medicine</td>\n",
              "      <td>If you are looking for the secret ingredient i...</td>\n",
              "      <td>1</td>\n",
              "      <td>if you are looking for the secret ingredient i...</td>\n",
              "    </tr>\n",
              "    <tr>\n",
              "      <th>5</th>\n",
              "      <td>B006K2ZZ7K</td>\n",
              "      <td>ADT0SRK1MGOEU</td>\n",
              "      <td>Twoapennything</td>\n",
              "      <td>0</td>\n",
              "      <td>0</td>\n",
              "      <td>4</td>\n",
              "      <td>1342051200</td>\n",
              "      <td>Nice Taffy</td>\n",
              "      <td>I got a wild hair for taffy and ordered this f...</td>\n",
              "      <td>2</td>\n",
              "      <td>i got a wild hair for taffy and ordered this f...</td>\n",
              "    </tr>\n",
              "    <tr>\n",
              "      <th>12</th>\n",
              "      <td>B0009XLVG0</td>\n",
              "      <td>A327PCT23YH90</td>\n",
              "      <td>LT</td>\n",
              "      <td>1</td>\n",
              "      <td>1</td>\n",
              "      <td>1</td>\n",
              "      <td>1339545600</td>\n",
              "      <td>My Cats Are Not Fans of the New Food</td>\n",
              "      <td>My cats have been happily eating Felidae Plati...</td>\n",
              "      <td>1</td>\n",
              "      <td>my cats have been happily eating felidae plati...</td>\n",
              "    </tr>\n",
              "    <tr>\n",
              "      <th>...</th>\n",
              "      <td>...</td>\n",
              "      <td>...</td>\n",
              "      <td>...</td>\n",
              "      <td>...</td>\n",
              "      <td>...</td>\n",
              "      <td>...</td>\n",
              "      <td>...</td>\n",
              "      <td>...</td>\n",
              "      <td>...</td>\n",
              "      <td>...</td>\n",
              "      <td>...</td>\n",
              "    </tr>\n",
              "    <tr>\n",
              "      <th>9982</th>\n",
              "      <td>B0032AM8H8</td>\n",
              "      <td>A312MFKWEGW6PV</td>\n",
              "      <td>Cassiopeia \"CJ\"</td>\n",
              "      <td>0</td>\n",
              "      <td>0</td>\n",
              "      <td>3</td>\n",
              "      <td>1296691200</td>\n",
              "      <td>Tasty tea, limited help for heartburn</td>\n",
              "      <td>This is a pleasant tea, it tastes mostly of ch...</td>\n",
              "      <td>0</td>\n",
              "      <td>this is a pleasant tea, it tastes mostly of ch...</td>\n",
              "    </tr>\n",
              "    <tr>\n",
              "      <th>9985</th>\n",
              "      <td>B000P41A28</td>\n",
              "      <td>A2OOCPLJM7I4VA</td>\n",
              "      <td>Victoria Compton \"Hyakamooks\"</td>\n",
              "      <td>38</td>\n",
              "      <td>48</td>\n",
              "      <td>1</td>\n",
              "      <td>1222646400</td>\n",
              "      <td>Constipation + Sucrose = No, thanks!</td>\n",
              "      <td>You think you're doing something good for your...</td>\n",
              "      <td>1</td>\n",
              "      <td>you think you're doing something good for your...</td>\n",
              "    </tr>\n",
              "    <tr>\n",
              "      <th>9986</th>\n",
              "      <td>B000P41A28</td>\n",
              "      <td>AMZ97CCWOB453</td>\n",
              "      <td>Pregbaby</td>\n",
              "      <td>18</td>\n",
              "      <td>24</td>\n",
              "      <td>2</td>\n",
              "      <td>1249948800</td>\n",
              "      <td>Read this article first</td>\n",
              "      <td>2.0 out of 5 stars Read this article first, Au...</td>\n",
              "      <td>1</td>\n",
              "      <td>2.0 out of 5 stars read this article first, au...</td>\n",
              "    </tr>\n",
              "    <tr>\n",
              "      <th>9995</th>\n",
              "      <td>B000P41A28</td>\n",
              "      <td>A3A63RACXR1XIL</td>\n",
              "      <td>A. Boodhoo \"deaddodo\"</td>\n",
              "      <td>10</td>\n",
              "      <td>15</td>\n",
              "      <td>1</td>\n",
              "      <td>1204502400</td>\n",
              "      <td>constipation</td>\n",
              "      <td>we switched from the advance similac to the or...</td>\n",
              "      <td>1</td>\n",
              "      <td>we switched from the advance similac to the or...</td>\n",
              "    </tr>\n",
              "    <tr>\n",
              "      <th>9999</th>\n",
              "      <td>B000P41A28</td>\n",
              "      <td>A82WIMR4RSVLI</td>\n",
              "      <td>Emrose mom</td>\n",
              "      <td>0</td>\n",
              "      <td>1</td>\n",
              "      <td>4</td>\n",
              "      <td>1337472000</td>\n",
              "      <td>The best weve tried so far</td>\n",
              "      <td>We have a 7 week old... He had gas and constip...</td>\n",
              "      <td>2</td>\n",
              "      <td>we have a 7 week old... he had gas and constip...</td>\n",
              "    </tr>\n",
              "  </tbody>\n",
              "</table>\n",
              "<p>3817 rows × 11 columns</p>\n",
              "</div>"
            ],
            "text/plain": [
              "       ProductId  ...                                   reviews_text_new\n",
              "1     B00813GRG4  ...  product arrived labeled as jumbo salted peanut...\n",
              "2     B000LQOCH0  ...  this is a confection that has been around a fe...\n",
              "3     B000UA0QIQ  ...  if you are looking for the secret ingredient i...\n",
              "5     B006K2ZZ7K  ...  i got a wild hair for taffy and ordered this f...\n",
              "12    B0009XLVG0  ...  my cats have been happily eating felidae plati...\n",
              "...          ...  ...                                                ...\n",
              "9982  B0032AM8H8  ...  this is a pleasant tea, it tastes mostly of ch...\n",
              "9985  B000P41A28  ...  you think you're doing something good for your...\n",
              "9986  B000P41A28  ...  2.0 out of 5 stars read this article first, au...\n",
              "9995  B000P41A28  ...  we switched from the advance similac to the or...\n",
              "9999  B000P41A28  ...  we have a 7 week old... he had gas and constip...\n",
              "\n",
              "[3817 rows x 11 columns]"
            ]
          },
          "metadata": {
            "tags": []
          },
          "execution_count": 6
        }
      ]
    },
    {
      "cell_type": "code",
      "metadata": {
        "colab": {
          "base_uri": "https://localhost:8080/"
        },
        "id": "UnxkF49wylSc",
        "outputId": "459c2d25-7d18-4ac1-dd58-e944d32c3f9a"
      },
      "source": [
        "from nltk import word_tokenize\n",
        "import nltk\n",
        "nltk.download('punkt')\n",
        "\n",
        "# For reviews not converted to lowe case\n",
        "token_lists = [word_tokenize(each) for each in amazon_reviews['Text']]\n",
        "tokens = [item for sublist in token_lists for item in sublist]\n",
        "print(\"Number of unique tokens before lowering the sentences: \",len(set(tokens)))\n",
        "\n",
        "# For reviews converted to lowe case\n",
        "token_lists_lower = [word_tokenize(each) for each in amazon_reviews['reviews_text_new']]\n",
        "tokens_lower = [item for sublist in token_lists_lower for item in sublist]\n",
        "print(\"Number of unique tokens after lowering the sentences: \",len(set(tokens_lower)))"
      ],
      "execution_count": null,
      "outputs": [
        {
          "output_type": "stream",
          "text": [
            "[nltk_data] Downloading package punkt to /root/nltk_data...\n",
            "[nltk_data]   Unzipping tokenizers/punkt.zip.\n",
            "Number of unique tokens before lowering the sentences:  18185\n",
            "Number of unique tokens after lowering the sentences:  15076\n"
          ],
          "name": "stdout"
        }
      ]
    },
    {
      "cell_type": "markdown",
      "metadata": {
        "id": "0kvr6eF9kG0l"
      },
      "source": [
        "**Replacing Non AlphaNumeric values to blank**"
      ]
    },
    {
      "cell_type": "code",
      "metadata": {
        "id": "wAcfrRgTylZ5"
      },
      "source": [
        "amazon_reviews['reviews_text_new'] = amazon_reviews['reviews_text_new'].str.replace(r'[^A-Za-z0-9 ]+', ' ')"
      ],
      "execution_count": null,
      "outputs": []
    },
    {
      "cell_type": "code",
      "metadata": {
        "colab": {
          "base_uri": "https://localhost:8080/"
        },
        "id": "H53uyPGYylc_",
        "outputId": "95f5d09a-640d-46ec-b032-95923a6bbc68"
      },
      "source": [
        "from nltk.corpus import stopwords\n",
        "nltk.download('stopwords')\n",
        "eng_stop_words = stopwords.words('english')\n",
        "eng_stop_words"
      ],
      "execution_count": null,
      "outputs": [
        {
          "output_type": "stream",
          "text": [
            "[nltk_data] Downloading package stopwords to /root/nltk_data...\n",
            "[nltk_data]   Unzipping corpora/stopwords.zip.\n"
          ],
          "name": "stdout"
        },
        {
          "output_type": "execute_result",
          "data": {
            "text/plain": [
              "['i',\n",
              " 'me',\n",
              " 'my',\n",
              " 'myself',\n",
              " 'we',\n",
              " 'our',\n",
              " 'ours',\n",
              " 'ourselves',\n",
              " 'you',\n",
              " \"you're\",\n",
              " \"you've\",\n",
              " \"you'll\",\n",
              " \"you'd\",\n",
              " 'your',\n",
              " 'yours',\n",
              " 'yourself',\n",
              " 'yourselves',\n",
              " 'he',\n",
              " 'him',\n",
              " 'his',\n",
              " 'himself',\n",
              " 'she',\n",
              " \"she's\",\n",
              " 'her',\n",
              " 'hers',\n",
              " 'herself',\n",
              " 'it',\n",
              " \"it's\",\n",
              " 'its',\n",
              " 'itself',\n",
              " 'they',\n",
              " 'them',\n",
              " 'their',\n",
              " 'theirs',\n",
              " 'themselves',\n",
              " 'what',\n",
              " 'which',\n",
              " 'who',\n",
              " 'whom',\n",
              " 'this',\n",
              " 'that',\n",
              " \"that'll\",\n",
              " 'these',\n",
              " 'those',\n",
              " 'am',\n",
              " 'is',\n",
              " 'are',\n",
              " 'was',\n",
              " 'were',\n",
              " 'be',\n",
              " 'been',\n",
              " 'being',\n",
              " 'have',\n",
              " 'has',\n",
              " 'had',\n",
              " 'having',\n",
              " 'do',\n",
              " 'does',\n",
              " 'did',\n",
              " 'doing',\n",
              " 'a',\n",
              " 'an',\n",
              " 'the',\n",
              " 'and',\n",
              " 'but',\n",
              " 'if',\n",
              " 'or',\n",
              " 'because',\n",
              " 'as',\n",
              " 'until',\n",
              " 'while',\n",
              " 'of',\n",
              " 'at',\n",
              " 'by',\n",
              " 'for',\n",
              " 'with',\n",
              " 'about',\n",
              " 'against',\n",
              " 'between',\n",
              " 'into',\n",
              " 'through',\n",
              " 'during',\n",
              " 'before',\n",
              " 'after',\n",
              " 'above',\n",
              " 'below',\n",
              " 'to',\n",
              " 'from',\n",
              " 'up',\n",
              " 'down',\n",
              " 'in',\n",
              " 'out',\n",
              " 'on',\n",
              " 'off',\n",
              " 'over',\n",
              " 'under',\n",
              " 'again',\n",
              " 'further',\n",
              " 'then',\n",
              " 'once',\n",
              " 'here',\n",
              " 'there',\n",
              " 'when',\n",
              " 'where',\n",
              " 'why',\n",
              " 'how',\n",
              " 'all',\n",
              " 'any',\n",
              " 'both',\n",
              " 'each',\n",
              " 'few',\n",
              " 'more',\n",
              " 'most',\n",
              " 'other',\n",
              " 'some',\n",
              " 'such',\n",
              " 'no',\n",
              " 'nor',\n",
              " 'not',\n",
              " 'only',\n",
              " 'own',\n",
              " 'same',\n",
              " 'so',\n",
              " 'than',\n",
              " 'too',\n",
              " 'very',\n",
              " 's',\n",
              " 't',\n",
              " 'can',\n",
              " 'will',\n",
              " 'just',\n",
              " 'don',\n",
              " \"don't\",\n",
              " 'should',\n",
              " \"should've\",\n",
              " 'now',\n",
              " 'd',\n",
              " 'll',\n",
              " 'm',\n",
              " 'o',\n",
              " 're',\n",
              " 've',\n",
              " 'y',\n",
              " 'ain',\n",
              " 'aren',\n",
              " \"aren't\",\n",
              " 'couldn',\n",
              " \"couldn't\",\n",
              " 'didn',\n",
              " \"didn't\",\n",
              " 'doesn',\n",
              " \"doesn't\",\n",
              " 'hadn',\n",
              " \"hadn't\",\n",
              " 'hasn',\n",
              " \"hasn't\",\n",
              " 'haven',\n",
              " \"haven't\",\n",
              " 'isn',\n",
              " \"isn't\",\n",
              " 'ma',\n",
              " 'mightn',\n",
              " \"mightn't\",\n",
              " 'mustn',\n",
              " \"mustn't\",\n",
              " 'needn',\n",
              " \"needn't\",\n",
              " 'shan',\n",
              " \"shan't\",\n",
              " 'shouldn',\n",
              " \"shouldn't\",\n",
              " 'wasn',\n",
              " \"wasn't\",\n",
              " 'weren',\n",
              " \"weren't\",\n",
              " 'won',\n",
              " \"won't\",\n",
              " 'wouldn',\n",
              " \"wouldn't\"]"
            ]
          },
          "metadata": {
            "tags": []
          },
          "execution_count": 9
        }
      ]
    },
    {
      "cell_type": "markdown",
      "metadata": {
        "id": "wmH1OI9KkPtd"
      },
      "source": [
        "**Applying Bag Of Words to \"Text column\"**"
      ]
    },
    {
      "cell_type": "code",
      "metadata": {
        "id": "0ZOfr833ylf6",
        "colab": {
          "base_uri": "https://localhost:8080/"
        },
        "outputId": "453e4e6f-e581-4f08-df9b-29d2dd6b1077"
      },
      "source": [
        "from sklearn.feature_extraction.text import CountVectorizer\n",
        "y = amazon_reviews['Sentiment_rating']\n",
        "bow_counts = CountVectorizer(tokenizer= word_tokenize, # type of tokenization\n",
        "                             stop_words=eng_stop_words, # List of stopwords\n",
        "                             ngram_range=(1,1)) # number of n-grams\n",
        "\n",
        "bow_data = bow_counts.fit_transform(amazon_reviews['reviews_text_new']).toarray()\n",
        "bow_data\n",
        "\n"
      ],
      "execution_count": null,
      "outputs": [
        {
          "output_type": "execute_result",
          "data": {
            "text/plain": [
              "array([[0, 0, 0, ..., 0, 0, 0],\n",
              "       [0, 0, 0, ..., 0, 0, 0],\n",
              "       [0, 0, 0, ..., 0, 0, 0],\n",
              "       ...,\n",
              "       [1, 0, 0, ..., 0, 0, 0],\n",
              "       [0, 0, 0, ..., 0, 0, 0],\n",
              "       [0, 0, 0, ..., 0, 0, 0]])"
            ]
          },
          "metadata": {
            "tags": []
          },
          "execution_count": 10
        }
      ]
    },
    {
      "cell_type": "markdown",
      "metadata": {
        "id": "OAOEQzLOF3Qy"
      },
      "source": [
        "**Train and test data splitting(Bag of Words)**"
      ]
    },
    {
      "cell_type": "code",
      "metadata": {
        "id": "EFP-FJfMylil"
      },
      "source": [
        "X_train_bow, X_test_bow, y_train_bow, y_test_bow = train_test_split(bow_data, # Features\n",
        "                                                                    amazon_reviews['Sentiment_rating'], # Target variable\n",
        "                                                                    test_size = 0.2, # 20% test size\n",
        "                                                                    random_state = 0) # random state for replication purposes"
      ],
      "execution_count": null,
      "outputs": []
    },
    {
      "cell_type": "markdown",
      "metadata": {
        "id": "ao9qz1mnkf5U"
      },
      "source": [
        "**LOGISCTIC REGRESSION**"
      ]
    },
    {
      "cell_type": "code",
      "metadata": {
        "id": "2Fu1uH7WyllI"
      },
      "source": [
        "### Training the model \n",
        "### LOGISTIC REGRESSION WITH BAG OF WORDS\n",
        "\n",
        "lr_model_all = LogisticRegression(multi_class='multinomial') # Logistic regression\n",
        "lr_model= lr_model_all.fit(X_train_bow, y_train_bow) # Fitting a logistic regression model"
      ],
      "execution_count": null,
      "outputs": []
    },
    {
      "cell_type": "code",
      "metadata": {
        "colab": {
          "base_uri": "https://localhost:8080/"
        },
        "id": "C1zBISOiE420",
        "outputId": "47844602-0213-4d2d-cfec-7f0689ab17e4"
      },
      "source": [
        "## Predicting the output\n",
        "test_pred_lr_all = lr_model.predict(X_test_bow) # Class prediction\n",
        "\n",
        "## Calculate key performance metrics\n",
        "print(\"F1 score: \", f1_score(y_test_bow, test_pred_lr_all,average='weighted'))"
      ],
      "execution_count": null,
      "outputs": [
        {
          "output_type": "stream",
          "text": [
            "F1 score:  0.6284145603404473\n"
          ],
          "name": "stdout"
        }
      ]
    },
    {
      "cell_type": "markdown",
      "metadata": {
        "id": "99KzjZbKkll9"
      },
      "source": [
        "**RANDOM FOREST CLASSIFIER**"
      ]
    },
    {
      "cell_type": "code",
      "metadata": {
        "colab": {
          "base_uri": "https://localhost:8080/"
        },
        "id": "ZejTVb4ijX_3",
        "outputId": "2bd25026-af44-4b57-dc7c-a240c905caed"
      },
      "source": [
        "rfc = RandomForestClassifier(n_estimators=100)  ####################  BAG OF WORDS and Random Clssifier. \n",
        "rfc.fit(X_train_bow,y_train_bow)\n",
        "\n",
        "y_pred=rfc.predict(X_test_bow)\n",
        "\n",
        "print(\"F1 score: \",f1_score(y_test_bow,y_pred,average='weighted'))"
      ],
      "execution_count": null,
      "outputs": [
        {
          "output_type": "stream",
          "text": [
            "F1 score:  0.6290719646841479\n"
          ],
          "name": "stdout"
        }
      ]
    },
    {
      "cell_type": "code",
      "metadata": {
        "id": "DzvYu6XFlHWN",
        "colab": {
          "base_uri": "https://localhost:8080/"
        },
        "outputId": "b7b782b8-1a1d-4b7e-8975-27a5ec5fbceb"
      },
      "source": [
        "from sklearn.naive_bayes import GaussianNB\n",
        "gnb = GaussianNB().fit(X_train_bow, y_train_bow)\n",
        "gnb_predictions = gnb.predict(X_test_bow)\n",
        "print(\"F1 score: \",f1_score(y_test_bow,gnb_predictions,average='weighted'))"
      ],
      "execution_count": null,
      "outputs": [
        {
          "output_type": "stream",
          "text": [
            "F1 score:  0.45465439753233955\n"
          ],
          "name": "stdout"
        }
      ]
    },
    {
      "cell_type": "markdown",
      "metadata": {
        "id": "upLiXL2Bku0M"
      },
      "source": [
        "**TF-IDF Applied on \"TEXT\" column**"
      ]
    },
    {
      "cell_type": "code",
      "metadata": {
        "id": "kdSZmgUCuQ8N",
        "colab": {
          "base_uri": "https://localhost:8080/"
        },
        "outputId": "e51f0149-8e27-48fd-a372-1e8d1437ec32"
      },
      "source": [
        "from sklearn.feature_extraction.text import TfidfVectorizer\n",
        "\n",
        "### Creating a python object of the class CountVectorizer\n",
        "tfidf_counts = TfidfVectorizer(tokenizer= word_tokenize, # type of tokenization\n",
        "                               stop_words=eng_stop_words, # List of stopwords\n",
        "                               ngram_range=(1,1)) # number of n-grams\n",
        "\n",
        "tfidf_data = tfidf_counts.fit_transform(amazon_reviews['reviews_text_new'])\n",
        "tfidf_data"
      ],
      "execution_count": null,
      "outputs": [
        {
          "output_type": "execute_result",
          "data": {
            "text/plain": [
              "<3817x12224 sparse matrix of type '<class 'numpy.float64'>'\n",
              "\twith 140666 stored elements in Compressed Sparse Row format>"
            ]
          },
          "metadata": {
            "tags": []
          },
          "execution_count": 14
        }
      ]
    },
    {
      "cell_type": "markdown",
      "metadata": {
        "id": "wyGt3gS6k2LN"
      },
      "source": [
        "**Train - test split (Tf-Idf)**"
      ]
    },
    {
      "cell_type": "code",
      "metadata": {
        "id": "ymd9zzi5uQ-6"
      },
      "source": [
        "X_train_tfidf, X_test_tfidf, y_train_tfidf, y_test_tfidf = train_test_split(tfidf_data,\n",
        "                                                                            amazon_reviews['Sentiment_rating'],\n",
        "                                                                            test_size = 0.2,\n",
        "                                                                            random_state = 0)"
      ],
      "execution_count": null,
      "outputs": []
    },
    {
      "cell_type": "markdown",
      "metadata": {
        "id": "T3Cj0Sf8uzv0"
      },
      "source": [
        "**Applying logistic regression to TF-IDF features**"
      ]
    },
    {
      "cell_type": "code",
      "metadata": {
        "colab": {
          "base_uri": "https://localhost:8080/",
          "height": 433
        },
        "id": "UtsFPCIRuRE1",
        "outputId": "31236928-de81-4f69-af00-2d06f04ff074"
      },
      "source": [
        "### Setting up the model class\n",
        "lr_model_tf_idf = LogisticRegression()\n",
        "\n",
        "## Training the model \n",
        "lr_model_tf_idf.fit(X_train_tfidf,y_train_tfidf)\n",
        "\n",
        "## Prediciting the results\n",
        "test_pred_lr_all = lr_model_tf_idf.predict(X_test_tfidf)\n",
        "\n",
        "## Evaluating the model\n",
        "print(\"F1 score: \",f1_score(y_test_tfidf, test_pred_lr_all,average='weighted'))\n",
        "\n",
        "y_test_tfidf.value_counts().hist()\n",
        "print(\"Test values\")\n",
        "print(y_test_tfidf.value_counts())\n",
        "print(\"Predicted values: \")\n",
        "#test_pred_lr_all.counts()\n",
        "count1=0\n",
        "count2=0\n",
        "count0=0\n",
        "for i in test_pred_lr_all:\n",
        "  if i==1:\n",
        "    count1+=1\n",
        "  elif i==2:\n",
        "    count2+=1\n",
        "  else:\n",
        "    count0+=1\n",
        "print(\"Num:of:Zeroes: \",count0)\n",
        "print(\"Num:of:ones: \",count1)\n",
        "print(\"Num:of:two's: \",count2)"
      ],
      "execution_count": null,
      "outputs": [
        {
          "output_type": "stream",
          "text": [
            "F1 score:  0.6397973438336954\n",
            "Test values\n",
            "1    332\n",
            "2    275\n",
            "0    157\n",
            "Name: Sentiment_rating, dtype: int64\n",
            "Predicted values: \n",
            "Num:of:Zeroes:  70\n",
            "Num:of:ones:  383\n",
            "Num:of:two's:  311\n"
          ],
          "name": "stdout"
        },
        {
          "output_type": "display_data",
          "data": {
            "image/png": "[encoded data removed]",
            "text/plain": [
              "<Figure size 432x288 with 1 Axes>"
            ]
          },
          "metadata": {
            "tags": [],
            "needs_background": "light"
          }
        }
      ]
    },
    {
      "cell_type": "markdown",
      "metadata": {
        "id": "oHtMXF7dvJGj"
      },
      "source": [
        "**Applying RandomForest classifier to TF-IDF features**"
      ]
    },
    {
      "cell_type": "code",
      "metadata": {
        "colab": {
          "base_uri": "https://localhost:8080/"
        },
        "id": "Jg2yKZOouv2W",
        "outputId": "4cc68508-ba0d-4e4c-ecc6-ae76fa2e5815"
      },
      "source": [
        "rfc_tf = RandomForestClassifier(n_estimators=100)\n",
        "rfc_tf.fit(X_train_tfidf,y_train_tfidf)\n",
        "\n",
        "y_pred=rfc_tf.predict(X_test_tfidf)\n",
        "\n",
        "print(\"F1 score: \",f1_score(y_test_tfidf,y_pred,average='weighted'))"
      ],
      "execution_count": null,
      "outputs": [
        {
          "output_type": "stream",
          "text": [
            "F1 score:  0.6340707178142835\n"
          ],
          "name": "stdout"
        }
      ]
    },
    {
      "cell_type": "code",
      "metadata": {
        "id": "ghN8CqD-uv55"
      },
      "source": [
        ""
      ],
      "execution_count": null,
      "outputs": []
    },
    {
      "cell_type": "code",
      "metadata": {
        "id": "9r0S_iTnuv8n"
      },
      "source": [
        ""
      ],
      "execution_count": null,
      "outputs": []
    },
    {
      "cell_type": "markdown",
      "metadata": {
        "id": "EDoHth-VlGfw"
      },
      "source": [
        "**Manual Testing of Logistic regression(Bag-of-words)**"
      ]
    },
    {
      "cell_type": "code",
      "metadata": {
        "colab": {
          "base_uri": "https://localhost:8080/"
        },
        "id": "sA08Qy6UE49f",
        "outputId": "b042703f-fb78-49de-a29c-0f7050259de1"
      },
      "source": [
        "test_feature = bow_counts.transform(['movie is good'])\n",
        "aaa=lr_model.predict(test_feature)\n",
        "if aaa == 1:\n",
        "  print(\"negative\")\n",
        "elif aaa==0:\n",
        "  print(\"neutral\")\n",
        "else:\n",
        "  print(\"positive\")"
      ],
      "execution_count": null,
      "outputs": [
        {
          "output_type": "stream",
          "text": [
            "positive\n"
          ],
          "name": "stdout"
        }
      ]
    },
    {
      "cell_type": "markdown",
      "metadata": {
        "id": "LAoWWR3DlNxQ"
      },
      "source": [
        "**Manual Testing of Logistic regression (TF-IDF)**"
      ]
    },
    {
      "cell_type": "code",
      "metadata": {
        "id": "RQ_YlxgyE5cu",
        "colab": {
          "base_uri": "https://localhost:8080/"
        },
        "outputId": "1c503995-b3da-482a-8fab-42960f5d3f57"
      },
      "source": [
        "test_feature = tfidf_counts.transform(['movie is okay'])\n",
        "aaa=lr_model_tf_idf.predict(test_feature)\n",
        "if aaa == 1:\n",
        "  print(\"negative\")\n",
        "elif aaa==0:\n",
        "  print(\"neutral\")\n",
        "else:\n",
        "  print(\"positive\")"
      ],
      "execution_count": null,
      "outputs": [
        {
          "output_type": "stream",
          "text": [
            "neutral\n"
          ],
          "name": "stdout"
        }
      ]
    },
    {
      "cell_type": "code",
      "metadata": {
        "id": "s-19hPbjxaoz"
      },
      "source": [
        "import pickle"
      ],
      "execution_count": null,
      "outputs": []
    },
    {
      "cell_type": "code",
      "metadata": {
        "id": "BS3WVykqxa2f"
      },
      "source": [
        "pick1 = {\n",
        "    'vectorizer':tfidf_counts,\n",
        "    'model':lr_model_tf_idf\n",
        "}\n",
        "pickle.dump(pick1,open('models'+\".p\",\"wb\"))"
      ],
      "execution_count": null,
      "outputs": []
    }
  ]
}